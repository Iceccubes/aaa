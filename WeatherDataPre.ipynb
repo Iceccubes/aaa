{
 "cells": [
  {
   "cell_type": "code",
   "execution_count": 57,
   "metadata": {},
   "outputs": [],
   "source": [
    "import pandas as pd\n",
    "from datetime import datetime\n",
    "import matplotlib.pyplot as plt\n",
    "import numpy as np"
   ]
  },
  {
   "cell_type": "code",
   "execution_count": 58,
   "metadata": {},
   "outputs": [
    {
     "data": {
      "text/html": [
       "<div>\n",
       "<style scoped>\n",
       "    .dataframe tbody tr th:only-of-type {\n",
       "        vertical-align: middle;\n",
       "    }\n",
       "\n",
       "    .dataframe tbody tr th {\n",
       "        vertical-align: top;\n",
       "    }\n",
       "\n",
       "    .dataframe thead th {\n",
       "        text-align: right;\n",
       "    }\n",
       "</style>\n",
       "<table border=\"1\" class=\"dataframe\">\n",
       "  <thead>\n",
       "    <tr style=\"text-align: right;\">\n",
       "      <th></th>\n",
       "      <th>Date</th>\n",
       "      <th>Time</th>\n",
       "      <th>Temperature</th>\n",
       "      <th>Dew Point</th>\n",
       "      <th>Humidity</th>\n",
       "      <th>Wind</th>\n",
       "      <th>Wind Speed</th>\n",
       "      <th>Wind Gust</th>\n",
       "      <th>Pressure</th>\n",
       "      <th>Precip</th>\n",
       "      <th>Condition</th>\n",
       "    </tr>\n",
       "  </thead>\n",
       "  <tbody>\n",
       "    <tr>\n",
       "      <th>0</th>\n",
       "      <td>2022-01-01</td>\n",
       "      <td>11:15:00</td>\n",
       "      <td>33</td>\n",
       "      <td>28</td>\n",
       "      <td>82</td>\n",
       "      <td>NNE</td>\n",
       "      <td>21.0</td>\n",
       "      <td>31.0</td>\n",
       "      <td>29.17</td>\n",
       "      <td>0.0</td>\n",
       "      <td>Light Snow / Windy</td>\n",
       "    </tr>\n",
       "    <tr>\n",
       "      <th>1</th>\n",
       "      <td>2022-01-01</td>\n",
       "      <td>11:29:00</td>\n",
       "      <td>32</td>\n",
       "      <td>27</td>\n",
       "      <td>82</td>\n",
       "      <td>NNE</td>\n",
       "      <td>22.0</td>\n",
       "      <td>31.0</td>\n",
       "      <td>29.17</td>\n",
       "      <td>0.0</td>\n",
       "      <td>Light Snow / Windy</td>\n",
       "    </tr>\n",
       "    <tr>\n",
       "      <th>2</th>\n",
       "      <td>2022-01-01</td>\n",
       "      <td>11:53:00</td>\n",
       "      <td>32</td>\n",
       "      <td>27</td>\n",
       "      <td>82</td>\n",
       "      <td>NNE</td>\n",
       "      <td>21.0</td>\n",
       "      <td>33.0</td>\n",
       "      <td>29.18</td>\n",
       "      <td>0.0</td>\n",
       "      <td>Light Snow / Windy</td>\n",
       "    </tr>\n",
       "    <tr>\n",
       "      <th>3</th>\n",
       "      <td>2022-01-01</td>\n",
       "      <td>12:00:00</td>\n",
       "      <td>32</td>\n",
       "      <td>28</td>\n",
       "      <td>85</td>\n",
       "      <td>NNE</td>\n",
       "      <td>22.0</td>\n",
       "      <td>31.0</td>\n",
       "      <td>29.18</td>\n",
       "      <td>0.0</td>\n",
       "      <td>Light Snow / Windy</td>\n",
       "    </tr>\n",
       "    <tr>\n",
       "      <th>4</th>\n",
       "      <td>2022-01-01</td>\n",
       "      <td>12:10:00</td>\n",
       "      <td>32</td>\n",
       "      <td>28</td>\n",
       "      <td>85</td>\n",
       "      <td>NNE</td>\n",
       "      <td>21.0</td>\n",
       "      <td>29.0</td>\n",
       "      <td>29.17</td>\n",
       "      <td>0.0</td>\n",
       "      <td>Light Snow / Windy</td>\n",
       "    </tr>\n",
       "    <tr>\n",
       "      <th>...</th>\n",
       "      <td>...</td>\n",
       "      <td>...</td>\n",
       "      <td>...</td>\n",
       "      <td>...</td>\n",
       "      <td>...</td>\n",
       "      <td>...</td>\n",
       "      <td>...</td>\n",
       "      <td>...</td>\n",
       "      <td>...</td>\n",
       "      <td>...</td>\n",
       "      <td>...</td>\n",
       "    </tr>\n",
       "    <tr>\n",
       "      <th>10189</th>\n",
       "      <td>2022-12-31</td>\n",
       "      <td>13:53:00</td>\n",
       "      <td>37</td>\n",
       "      <td>30</td>\n",
       "      <td>76</td>\n",
       "      <td>SE</td>\n",
       "      <td>9.0</td>\n",
       "      <td>18.0</td>\n",
       "      <td>29.23</td>\n",
       "      <td>0.0</td>\n",
       "      <td>Cloudy</td>\n",
       "    </tr>\n",
       "    <tr>\n",
       "      <th>10190</th>\n",
       "      <td>2022-12-31</td>\n",
       "      <td>14:53:00</td>\n",
       "      <td>37</td>\n",
       "      <td>31</td>\n",
       "      <td>79</td>\n",
       "      <td>SE</td>\n",
       "      <td>10.0</td>\n",
       "      <td>NaN</td>\n",
       "      <td>29.21</td>\n",
       "      <td>0.0</td>\n",
       "      <td>Cloudy</td>\n",
       "    </tr>\n",
       "    <tr>\n",
       "      <th>10191</th>\n",
       "      <td>2022-12-31</td>\n",
       "      <td>15:53:00</td>\n",
       "      <td>37</td>\n",
       "      <td>32</td>\n",
       "      <td>82</td>\n",
       "      <td>CALM</td>\n",
       "      <td>0.0</td>\n",
       "      <td>NaN</td>\n",
       "      <td>29.22</td>\n",
       "      <td>0.0</td>\n",
       "      <td>Cloudy</td>\n",
       "    </tr>\n",
       "    <tr>\n",
       "      <th>10192</th>\n",
       "      <td>2022-12-31</td>\n",
       "      <td>16:53:00</td>\n",
       "      <td>37</td>\n",
       "      <td>32</td>\n",
       "      <td>82</td>\n",
       "      <td>SE</td>\n",
       "      <td>6.0</td>\n",
       "      <td>NaN</td>\n",
       "      <td>29.22</td>\n",
       "      <td>0.0</td>\n",
       "      <td>Cloudy</td>\n",
       "    </tr>\n",
       "    <tr>\n",
       "      <th>10193</th>\n",
       "      <td>2022-12-31</td>\n",
       "      <td>17:53:00</td>\n",
       "      <td>37</td>\n",
       "      <td>32</td>\n",
       "      <td>82</td>\n",
       "      <td>ESE</td>\n",
       "      <td>7.0</td>\n",
       "      <td>NaN</td>\n",
       "      <td>29.19</td>\n",
       "      <td>0.0</td>\n",
       "      <td>Cloudy</td>\n",
       "    </tr>\n",
       "  </tbody>\n",
       "</table>\n",
       "<p>10194 rows × 11 columns</p>\n",
       "</div>"
      ],
      "text/plain": [
       "             Date      Time  Temperature  Dew Point  Humidity  Wind  \\\n",
       "0      2022-01-01  11:15:00           33         28        82   NNE   \n",
       "1      2022-01-01  11:29:00           32         27        82   NNE   \n",
       "2      2022-01-01  11:53:00           32         27        82   NNE   \n",
       "3      2022-01-01  12:00:00           32         28        85   NNE   \n",
       "4      2022-01-01  12:10:00           32         28        85   NNE   \n",
       "...           ...       ...          ...        ...       ...   ...   \n",
       "10189  2022-12-31  13:53:00           37         30        76    SE   \n",
       "10190  2022-12-31  14:53:00           37         31        79    SE   \n",
       "10191  2022-12-31  15:53:00           37         32        82  CALM   \n",
       "10192  2022-12-31  16:53:00           37         32        82    SE   \n",
       "10193  2022-12-31  17:53:00           37         32        82   ESE   \n",
       "\n",
       "       Wind Speed  Wind Gust  Pressure  Precip           Condition  \n",
       "0            21.0       31.0     29.17     0.0  Light Snow / Windy  \n",
       "1            22.0       31.0     29.17     0.0  Light Snow / Windy  \n",
       "2            21.0       33.0     29.18     0.0  Light Snow / Windy  \n",
       "3            22.0       31.0     29.18     0.0  Light Snow / Windy  \n",
       "4            21.0       29.0     29.17     0.0  Light Snow / Windy  \n",
       "...           ...        ...       ...     ...                 ...  \n",
       "10189         9.0       18.0     29.23     0.0              Cloudy  \n",
       "10190        10.0        NaN     29.21     0.0              Cloudy  \n",
       "10191         0.0        NaN     29.22     0.0              Cloudy  \n",
       "10192         6.0        NaN     29.22     0.0              Cloudy  \n",
       "10193         7.0        NaN     29.19     0.0              Cloudy  \n",
       "\n",
       "[10194 rows x 11 columns]"
      ]
     },
     "execution_count": 58,
     "metadata": {},
     "output_type": "execute_result"
    }
   ],
   "source": [
    "# Import Weather Datset\n",
    "weather_data = pd.read_csv('data\\input\\wundergound.csv')\n",
    "weather_data"
   ]
  },
  {
   "cell_type": "code",
   "execution_count": 59,
   "metadata": {},
   "outputs": [
    {
     "name": "stdout",
     "output_type": "stream",
     "text": [
      "<class 'pandas.core.frame.DataFrame'>\n",
      "RangeIndex: 10194 entries, 0 to 10193\n",
      "Data columns (total 11 columns):\n",
      " #   Column       Non-Null Count  Dtype  \n",
      "---  ------       --------------  -----  \n",
      " 0   Date         10194 non-null  object \n",
      " 1   Time         10194 non-null  object \n",
      " 2   Temperature  10194 non-null  int64  \n",
      " 3   Dew Point    10194 non-null  int64  \n",
      " 4   Humidity     10194 non-null  int64  \n",
      " 5   Wind         10188 non-null  object \n",
      " 6   Wind Speed   10188 non-null  float64\n",
      " 7   Wind Gust    2732 non-null   float64\n",
      " 8   Pressure     10194 non-null  float64\n",
      " 9   Precip       10194 non-null  float64\n",
      " 10  Condition    10194 non-null  object \n",
      "dtypes: float64(4), int64(3), object(4)\n",
      "memory usage: 876.2+ KB\n"
     ]
    }
   ],
   "source": [
    "#attribute types\n",
    "weather_data.info()"
   ]
  },
  {
   "cell_type": "code",
   "execution_count": 60,
   "metadata": {},
   "outputs": [
    {
     "name": "stdout",
     "output_type": "stream",
     "text": [
      "             Date      Time  Temperature  Dew Point  Humidity  Wind  \\\n",
      "0      2022-01-01  11:15:00           33         28        82   NNE   \n",
      "1      2022-01-01  11:29:00           32         27        82   NNE   \n",
      "2      2022-01-01  11:53:00           32         27        82   NNE   \n",
      "3      2022-01-01  12:00:00           32         28        85   NNE   \n",
      "4      2022-01-01  12:10:00           32         28        85   NNE   \n",
      "...           ...       ...          ...        ...       ...   ...   \n",
      "10189  2022-12-31  13:53:00           37         30        76    SE   \n",
      "10190  2022-12-31  14:53:00           37         31        79    SE   \n",
      "10191  2022-12-31  15:53:00           37         32        82  CALM   \n",
      "10192  2022-12-31  16:53:00           37         32        82    SE   \n",
      "10193  2022-12-31  17:53:00           37         32        82   ESE   \n",
      "\n",
      "       Wind Speed  Wind Gust  Pressure  Precip           Condition  \\\n",
      "0            21.0       31.0     29.17     0.0  Light Snow / Windy   \n",
      "1            22.0       31.0     29.17     0.0  Light Snow / Windy   \n",
      "2            21.0       33.0     29.18     0.0  Light Snow / Windy   \n",
      "3            22.0       31.0     29.18     0.0  Light Snow / Windy   \n",
      "4            21.0       29.0     29.17     0.0  Light Snow / Windy   \n",
      "...           ...        ...       ...     ...                 ...   \n",
      "10189         9.0       18.0     29.23     0.0              Cloudy   \n",
      "10190        10.0        NaN     29.21     0.0              Cloudy   \n",
      "10191         0.0        NaN     29.22     0.0              Cloudy   \n",
      "10192         6.0        NaN     29.22     0.0              Cloudy   \n",
      "10193         7.0        NaN     29.19     0.0              Cloudy   \n",
      "\n",
      "                 DateTime  \n",
      "0     2022-01-01 11:15:00  \n",
      "1     2022-01-01 11:29:00  \n",
      "2     2022-01-01 11:53:00  \n",
      "3     2022-01-01 12:00:00  \n",
      "4     2022-01-01 12:10:00  \n",
      "...                   ...  \n",
      "10189 2022-12-31 13:53:00  \n",
      "10190 2022-12-31 14:53:00  \n",
      "10191 2022-12-31 15:53:00  \n",
      "10192 2022-12-31 16:53:00  \n",
      "10193 2022-12-31 17:53:00  \n",
      "\n",
      "[10194 rows x 12 columns]\n"
     ]
    }
   ],
   "source": [
    "# Kombiniere \"Date\" und \"Time\" und speichere das Ergebnis in der Spalte \"DateTime\"\n",
    "weather_data['DateTime'] = pd.to_datetime(weather_data['Date'] + ' ' + weather_data['Time'], format='%Y-%m-%d %H:%M:%S')\n",
    "\n",
    "# Setze den Index des DataFrames auf die Spalte \"DateTime\"\n",
    "weather_data_indexed_by_date = weather_data.set_index('DateTime')\n",
    "\n",
    "# Ausgabe des aktualisierten DataFrame mit der neuen Spalte\n",
    "print(weather_data)"
   ]
  },
  {
   "cell_type": "code",
   "execution_count": 61,
   "metadata": {},
   "outputs": [
    {
     "name": "stdout",
     "output_type": "stream",
     "text": [
      "<class 'pandas.core.frame.DataFrame'>\n",
      "RangeIndex: 10194 entries, 0 to 10193\n",
      "Data columns (total 12 columns):\n",
      " #   Column       Non-Null Count  Dtype         \n",
      "---  ------       --------------  -----         \n",
      " 0   Date         10194 non-null  object        \n",
      " 1   Time         10194 non-null  object        \n",
      " 2   Temperature  10194 non-null  int64         \n",
      " 3   Dew Point    10194 non-null  int64         \n",
      " 4   Humidity     10194 non-null  int64         \n",
      " 5   Wind         10188 non-null  object        \n",
      " 6   Wind Speed   10188 non-null  float64       \n",
      " 7   Wind Gust    2732 non-null   float64       \n",
      " 8   Pressure     10194 non-null  float64       \n",
      " 9   Precip       10194 non-null  float64       \n",
      " 10  Condition    10194 non-null  object        \n",
      " 11  DateTime     10194 non-null  datetime64[ns]\n",
      "dtypes: datetime64[ns](1), float64(4), int64(3), object(4)\n",
      "memory usage: 955.8+ KB\n"
     ]
    }
   ],
   "source": [
    "#attribute types\n",
    "weather_data.info()"
   ]
  },
  {
   "cell_type": "code",
   "execution_count": 62,
   "metadata": {},
   "outputs": [
    {
     "data": {
      "text/plain": [
       "Date              0\n",
       "Time              0\n",
       "Temperature       0\n",
       "Dew Point         0\n",
       "Humidity          0\n",
       "Wind              6\n",
       "Wind Speed        6\n",
       "Wind Gust      7462\n",
       "Pressure          0\n",
       "Precip            0\n",
       "Condition         0\n",
       "DateTime          0\n",
       "dtype: int64"
      ]
     },
     "execution_count": 62,
     "metadata": {},
     "output_type": "execute_result"
    }
   ],
   "source": [
    "#check for null values\n",
    "weather_data.isnull().sum()"
   ]
  },
  {
   "cell_type": "code",
   "execution_count": 63,
   "metadata": {},
   "outputs": [],
   "source": [
    "# Spalten \"Time\" und \"Date\" löschen\n",
    "weather_data.drop(['Time', 'Date'], axis=1, inplace=True)"
   ]
  },
  {
   "cell_type": "code",
   "execution_count": 64,
   "metadata": {},
   "outputs": [
    {
     "data": {
      "text/plain": [
       "Temperature       0\n",
       "Dew Point         0\n",
       "Humidity          0\n",
       "Wind              6\n",
       "Wind Speed        6\n",
       "Wind Gust      7462\n",
       "Pressure          0\n",
       "Precip            0\n",
       "Condition         0\n",
       "DateTime          0\n",
       "dtype: int64"
      ]
     },
     "execution_count": 64,
     "metadata": {},
     "output_type": "execute_result"
    }
   ],
   "source": [
    "#check for null values\n",
    "weather_data.isnull().sum()"
   ]
  },
  {
   "cell_type": "code",
   "execution_count": 65,
   "metadata": {},
   "outputs": [
    {
     "name": "stdout",
     "output_type": "stream",
     "text": [
      "8336   2022-10-30 02:53:00\n",
      "8337   2022-10-30 02:53:00\n",
      "Name: DateTime, dtype: datetime64[ns]\n"
     ]
    }
   ],
   "source": [
    "# Überprüfe auf doppelte Einträge in der Spalte \"DateTime\"\n",
    "duplicates = weather_data[weather_data['DateTime'].duplicated(keep=False)]\n",
    "\n",
    "# Ausgabe der doppelten Einträge der Spalte \"DateTime\"\n",
    "print(duplicates['DateTime'])"
   ]
  },
  {
   "cell_type": "code",
   "execution_count": 66,
   "metadata": {},
   "outputs": [],
   "source": [
    "# Lösche die doppelten Einträge\n",
    "weather_data.drop_duplicates(subset='DateTime', inplace=True)"
   ]
  },
  {
   "cell_type": "code",
   "execution_count": 69,
   "metadata": {},
   "outputs": [
    {
     "data": {
      "text/html": [
       "<div>\n",
       "<style scoped>\n",
       "    .dataframe tbody tr th:only-of-type {\n",
       "        vertical-align: middle;\n",
       "    }\n",
       "\n",
       "    .dataframe tbody tr th {\n",
       "        vertical-align: top;\n",
       "    }\n",
       "\n",
       "    .dataframe thead th {\n",
       "        text-align: right;\n",
       "    }\n",
       "</style>\n",
       "<table border=\"1\" class=\"dataframe\">\n",
       "  <thead>\n",
       "    <tr style=\"text-align: right;\">\n",
       "      <th></th>\n",
       "      <th>Temperature</th>\n",
       "      <th>Dew Point</th>\n",
       "      <th>Humidity</th>\n",
       "      <th>Wind</th>\n",
       "      <th>Wind Speed</th>\n",
       "      <th>Wind Gust</th>\n",
       "      <th>Pressure</th>\n",
       "      <th>Precip</th>\n",
       "      <th>Condition</th>\n",
       "      <th>DateTime</th>\n",
       "    </tr>\n",
       "  </thead>\n",
       "  <tbody>\n",
       "  </tbody>\n",
       "</table>\n",
       "</div>"
      ],
      "text/plain": [
       "Empty DataFrame\n",
       "Columns: [Temperature, Dew Point, Humidity, Wind, Wind Speed, Wind Gust, Pressure, Precip, Condition, DateTime]\n",
       "Index: []"
      ]
     },
     "execution_count": 69,
     "metadata": {},
     "output_type": "execute_result"
    }
   ],
   "source": [
    "#check if there are duplicate entries\n",
    "weather_data[weather_data.duplicated()]"
   ]
  },
  {
   "cell_type": "code",
   "execution_count": 70,
   "metadata": {},
   "outputs": [],
   "source": [
    "def drop_non_binary_precip_rows(df):\n",
    "    non_binary_rows = ~((df['Precip'] == 0) | (df['Precip'] == 1))\n",
    "    return df.drop(df[non_binary_rows].index)\n",
    "\n",
    "weather_data = drop_non_binary_precip_rows(weather_data)"
   ]
  },
  {
   "cell_type": "code",
   "execution_count": 71,
   "metadata": {},
   "outputs": [
    {
     "name": "stdout",
     "output_type": "stream",
     "text": [
      "Ist jede Zeile der Spalte 'Precip' binär? True\n"
     ]
    }
   ],
   "source": [
    "def check_binary_precip_values(df):\n",
    "    return (df['Precip'] == 0) | (df['Precip'] == 1)\n",
    "\n",
    "is_binary = check_binary_precip_values(weather_data).all()\n",
    "\n",
    "print(\"Ist jede Zeile der Spalte 'Precip' binär?\", is_binary)"
   ]
  },
  {
   "cell_type": "code",
   "execution_count": 72,
   "metadata": {},
   "outputs": [
    {
     "name": "stdout",
     "output_type": "stream",
     "text": [
      "Earliest date entry: 2022-01-01 11:15:00\n",
      "Latest date entry: 2022-12-31 17:53:00\n"
     ]
    }
   ],
   "source": [
    "start = weather_data['DateTime'].min()\n",
    "print(\"Earliest date entry:\", start)\n",
    "end = weather_data['DateTime'].max()\n",
    "print(\"Latest date entry:\", end)"
   ]
  },
  {
   "cell_type": "code",
   "execution_count": 73,
   "metadata": {},
   "outputs": [
    {
     "data": {
      "text/plain": [
       "8712"
      ]
     },
     "execution_count": 73,
     "metadata": {},
     "output_type": "execute_result"
    }
   ],
   "source": [
    "date_range = pd.date_range(start, end, freq = 'H')\n",
    "\n",
    "#for faster lookup\n",
    "def get_missing_dates():\n",
    "    out = []\n",
    "    weather_data_indexed_by_date = weather_data.set_index('DateTime')\n",
    "\n",
    "    for date in date_range:\n",
    "        try:\n",
    "           weather_data_indexed_by_date.loc[date.strftime('%Y-%m-%d %H:%M:%S'),]\n",
    "        except KeyError:\n",
    "            out.append(date)\n",
    "    return out\n",
    "missing_dates = get_missing_dates()\n",
    "len(missing_dates)"
   ]
  },
  {
   "cell_type": "code",
   "execution_count": 74,
   "metadata": {},
   "outputs": [
    {
     "data": {
      "image/png": "[encoded data removed]",
      "text/plain": [
       "<Figure size 640x480 with 1 Axes>"
      ]
     },
     "metadata": {},
     "output_type": "display_data"
    }
   ],
   "source": [
    "months = {'January': 0, 'February': 0, 'March': 0, 'April': 0, \n",
    "          'May': 0, 'June': 0, 'July': 0, 'August': 0, \n",
    "          'September': 0, 'October': 0, 'November': 0, 'December': 0}\n",
    "\n",
    "for date in missing_dates:\n",
    "    months[date.month_name()] = months[date.month_name()] + 1\n",
    "\n",
    "Fig = plt.figure()\n",
    "ax = Fig.add_axes([0.5, 0.5, 1.5, 0.5])\n",
    "ax.plot(months.keys(), months.values())\n",
    "ax.set_xlabel('Months')\n",
    "ax.set_ylabel('Number of missing dates')\n",
    "ax.set_title('Missing Data for every month')\n",
    "plt.show()"
   ]
  },
  {
   "cell_type": "code",
   "execution_count": 75,
   "metadata": {},
   "outputs": [
    {
     "name": "stdout",
     "output_type": "stream",
     "text": [
      "Minium temperature: -9 Fahrenheit\n",
      "Minium temperature: 101 Fahrenheit\n"
     ]
    }
   ],
   "source": [
    "min_temperature = weather_data[\"Temperature\"].min()\n",
    "print(\"Minium temperature:\", min_temperature, \"Fahrenheit\")\n",
    "\n",
    "max_temperature = weather_data[\"Temperature\"].max()\n",
    "print(\"Minium temperature:\", max_temperature, \"Fahrenheit\")"
   ]
  },
  {
   "cell_type": "code",
   "execution_count": 76,
   "metadata": {},
   "outputs": [
    {
     "name": "stdout",
     "output_type": "stream",
     "text": [
      "Minium Wind Speed: 0.0 mph\n",
      "Max Wind Speed: 37.0 mph\n"
     ]
    }
   ],
   "source": [
    "min_Wind_Speed = weather_data[\"Wind Speed\"].min()\n",
    "print(\"Minium Wind Speed:\", min_Wind_Speed, \"mph\")\n",
    "\n",
    "max_Wind_Speed = weather_data[\"Wind Speed\"].max()\n",
    "print(\"Max Wind Speed:\", max_Wind_Speed, \"mph\")"
   ]
  },
  {
   "cell_type": "code",
   "execution_count": 77,
   "metadata": {},
   "outputs": [
    {
     "name": "stdout",
     "output_type": "stream",
     "text": [
      "Minium Pressure: 28.48\n",
      "Max Pressure: 29.97\n"
     ]
    }
   ],
   "source": [
    "min_Pressure = weather_data[\"Pressure\"].min()\n",
    "print(\"Minium Pressure:\", min_Pressure)\n",
    "\n",
    "max_Pressure = weather_data[\"Pressure\"].max()\n",
    "print(\"Max Pressure:\", max_Pressure)"
   ]
  },
  {
   "cell_type": "code",
   "execution_count": 78,
   "metadata": {},
   "outputs": [],
   "source": [
    "weather_data.to_csv('C:\\\\Users\\\\OGSKNECH\\\\AAA\\\\aaa\\\\data\\\\input\\\\weather_data_2022.csv', index=False)\n"
   ]
  }
 ],
 "metadata": {
  "kernelspec": {
   "display_name": "Python 3",
   "language": "python",
   "name": "python3"
  },
  "language_info": {
   "codemirror_mode": {
    "name": "ipython",
    "version": 3
   },
   "file_extension": ".py",
   "mimetype": "text/x-python",
   "name": "python",
   "nbconvert_exporter": "python",
   "pygments_lexer": "ipython3",
   "version": "3.9.15"
  },
  "orig_nbformat": 4
 },
 "nbformat": 4,
 "nbformat_minor": 2
}
