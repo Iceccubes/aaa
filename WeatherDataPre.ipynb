{
 "cells": [
  {
   "cell_type": "code",
   "execution_count": 83,
   "metadata": {},
   "outputs": [],
   "source": [
    "import pandas as pd\n",
    "from datetime import datetime, timedelta\n",
    "import matplotlib.pyplot as plt\n",
    "import numpy as np"
   ]
  },
  {
   "cell_type": "code",
   "execution_count": 84,
   "metadata": {},
   "outputs": [
    {
     "data": {
      "text/html": [
       "<div>\n",
       "<style scoped>\n",
       "    .dataframe tbody tr th:only-of-type {\n",
       "        vertical-align: middle;\n",
       "    }\n",
       "\n",
       "    .dataframe tbody tr th {\n",
       "        vertical-align: top;\n",
       "    }\n",
       "\n",
       "    .dataframe thead th {\n",
       "        text-align: right;\n",
       "    }\n",
       "</style>\n",
       "<table border=\"1\" class=\"dataframe\">\n",
       "  <thead>\n",
       "    <tr style=\"text-align: right;\">\n",
       "      <th></th>\n",
       "      <th>Date</th>\n",
       "      <th>Time</th>\n",
       "      <th>Temperature</th>\n",
       "      <th>Dew Point</th>\n",
       "      <th>Humidity</th>\n",
       "      <th>Wind</th>\n",
       "      <th>Wind Speed</th>\n",
       "      <th>Wind Gust</th>\n",
       "      <th>Pressure</th>\n",
       "      <th>Precip</th>\n",
       "      <th>Condition</th>\n",
       "    </tr>\n",
       "  </thead>\n",
       "  <tbody>\n",
       "    <tr>\n",
       "      <th>0</th>\n",
       "      <td>2022-01-01</td>\n",
       "      <td>11:15:00</td>\n",
       "      <td>33</td>\n",
       "      <td>28</td>\n",
       "      <td>82</td>\n",
       "      <td>NNE</td>\n",
       "      <td>21.0</td>\n",
       "      <td>31.0</td>\n",
       "      <td>29.17</td>\n",
       "      <td>0.0</td>\n",
       "      <td>Light Snow / Windy</td>\n",
       "    </tr>\n",
       "    <tr>\n",
       "      <th>1</th>\n",
       "      <td>2022-01-01</td>\n",
       "      <td>11:29:00</td>\n",
       "      <td>32</td>\n",
       "      <td>27</td>\n",
       "      <td>82</td>\n",
       "      <td>NNE</td>\n",
       "      <td>22.0</td>\n",
       "      <td>31.0</td>\n",
       "      <td>29.17</td>\n",
       "      <td>0.0</td>\n",
       "      <td>Light Snow / Windy</td>\n",
       "    </tr>\n",
       "    <tr>\n",
       "      <th>2</th>\n",
       "      <td>2022-01-01</td>\n",
       "      <td>11:53:00</td>\n",
       "      <td>32</td>\n",
       "      <td>27</td>\n",
       "      <td>82</td>\n",
       "      <td>NNE</td>\n",
       "      <td>21.0</td>\n",
       "      <td>33.0</td>\n",
       "      <td>29.18</td>\n",
       "      <td>0.0</td>\n",
       "      <td>Light Snow / Windy</td>\n",
       "    </tr>\n",
       "    <tr>\n",
       "      <th>3</th>\n",
       "      <td>2022-01-01</td>\n",
       "      <td>12:00:00</td>\n",
       "      <td>32</td>\n",
       "      <td>28</td>\n",
       "      <td>85</td>\n",
       "      <td>NNE</td>\n",
       "      <td>22.0</td>\n",
       "      <td>31.0</td>\n",
       "      <td>29.18</td>\n",
       "      <td>0.0</td>\n",
       "      <td>Light Snow / Windy</td>\n",
       "    </tr>\n",
       "    <tr>\n",
       "      <th>4</th>\n",
       "      <td>2022-01-01</td>\n",
       "      <td>12:10:00</td>\n",
       "      <td>32</td>\n",
       "      <td>28</td>\n",
       "      <td>85</td>\n",
       "      <td>NNE</td>\n",
       "      <td>21.0</td>\n",
       "      <td>29.0</td>\n",
       "      <td>29.17</td>\n",
       "      <td>0.0</td>\n",
       "      <td>Light Snow / Windy</td>\n",
       "    </tr>\n",
       "    <tr>\n",
       "      <th>...</th>\n",
       "      <td>...</td>\n",
       "      <td>...</td>\n",
       "      <td>...</td>\n",
       "      <td>...</td>\n",
       "      <td>...</td>\n",
       "      <td>...</td>\n",
       "      <td>...</td>\n",
       "      <td>...</td>\n",
       "      <td>...</td>\n",
       "      <td>...</td>\n",
       "      <td>...</td>\n",
       "    </tr>\n",
       "    <tr>\n",
       "      <th>10189</th>\n",
       "      <td>2022-12-31</td>\n",
       "      <td>13:53:00</td>\n",
       "      <td>37</td>\n",
       "      <td>30</td>\n",
       "      <td>76</td>\n",
       "      <td>SE</td>\n",
       "      <td>9.0</td>\n",
       "      <td>18.0</td>\n",
       "      <td>29.23</td>\n",
       "      <td>0.0</td>\n",
       "      <td>Cloudy</td>\n",
       "    </tr>\n",
       "    <tr>\n",
       "      <th>10190</th>\n",
       "      <td>2022-12-31</td>\n",
       "      <td>14:53:00</td>\n",
       "      <td>37</td>\n",
       "      <td>31</td>\n",
       "      <td>79</td>\n",
       "      <td>SE</td>\n",
       "      <td>10.0</td>\n",
       "      <td>NaN</td>\n",
       "      <td>29.21</td>\n",
       "      <td>0.0</td>\n",
       "      <td>Cloudy</td>\n",
       "    </tr>\n",
       "    <tr>\n",
       "      <th>10191</th>\n",
       "      <td>2022-12-31</td>\n",
       "      <td>15:53:00</td>\n",
       "      <td>37</td>\n",
       "      <td>32</td>\n",
       "      <td>82</td>\n",
       "      <td>CALM</td>\n",
       "      <td>0.0</td>\n",
       "      <td>NaN</td>\n",
       "      <td>29.22</td>\n",
       "      <td>0.0</td>\n",
       "      <td>Cloudy</td>\n",
       "    </tr>\n",
       "    <tr>\n",
       "      <th>10192</th>\n",
       "      <td>2022-12-31</td>\n",
       "      <td>16:53:00</td>\n",
       "      <td>37</td>\n",
       "      <td>32</td>\n",
       "      <td>82</td>\n",
       "      <td>SE</td>\n",
       "      <td>6.0</td>\n",
       "      <td>NaN</td>\n",
       "      <td>29.22</td>\n",
       "      <td>0.0</td>\n",
       "      <td>Cloudy</td>\n",
       "    </tr>\n",
       "    <tr>\n",
       "      <th>10193</th>\n",
       "      <td>2022-12-31</td>\n",
       "      <td>17:53:00</td>\n",
       "      <td>37</td>\n",
       "      <td>32</td>\n",
       "      <td>82</td>\n",
       "      <td>ESE</td>\n",
       "      <td>7.0</td>\n",
       "      <td>NaN</td>\n",
       "      <td>29.19</td>\n",
       "      <td>0.0</td>\n",
       "      <td>Cloudy</td>\n",
       "    </tr>\n",
       "  </tbody>\n",
       "</table>\n",
       "<p>10194 rows × 11 columns</p>\n",
       "</div>"
      ],
      "text/plain": [
       "             Date      Time  Temperature  Dew Point  Humidity  Wind  \\\n",
       "0      2022-01-01  11:15:00           33         28        82   NNE   \n",
       "1      2022-01-01  11:29:00           32         27        82   NNE   \n",
       "2      2022-01-01  11:53:00           32         27        82   NNE   \n",
       "3      2022-01-01  12:00:00           32         28        85   NNE   \n",
       "4      2022-01-01  12:10:00           32         28        85   NNE   \n",
       "...           ...       ...          ...        ...       ...   ...   \n",
       "10189  2022-12-31  13:53:00           37         30        76    SE   \n",
       "10190  2022-12-31  14:53:00           37         31        79    SE   \n",
       "10191  2022-12-31  15:53:00           37         32        82  CALM   \n",
       "10192  2022-12-31  16:53:00           37         32        82    SE   \n",
       "10193  2022-12-31  17:53:00           37         32        82   ESE   \n",
       "\n",
       "       Wind Speed  Wind Gust  Pressure  Precip           Condition  \n",
       "0            21.0       31.0     29.17     0.0  Light Snow / Windy  \n",
       "1            22.0       31.0     29.17     0.0  Light Snow / Windy  \n",
       "2            21.0       33.0     29.18     0.0  Light Snow / Windy  \n",
       "3            22.0       31.0     29.18     0.0  Light Snow / Windy  \n",
       "4            21.0       29.0     29.17     0.0  Light Snow / Windy  \n",
       "...           ...        ...       ...     ...                 ...  \n",
       "10189         9.0       18.0     29.23     0.0              Cloudy  \n",
       "10190        10.0        NaN     29.21     0.0              Cloudy  \n",
       "10191         0.0        NaN     29.22     0.0              Cloudy  \n",
       "10192         6.0        NaN     29.22     0.0              Cloudy  \n",
       "10193         7.0        NaN     29.19     0.0              Cloudy  \n",
       "\n",
       "[10194 rows x 11 columns]"
      ]
     },
     "execution_count": 84,
     "metadata": {},
     "output_type": "execute_result"
    }
   ],
   "source": [
    "# Import Weather Datset\n",
    "weather_data = pd.read_csv('data\\input\\wundergound.csv')\n",
    "weather_data"
   ]
  },
  {
   "cell_type": "code",
   "execution_count": 85,
   "metadata": {},
   "outputs": [
    {
     "name": "stdout",
     "output_type": "stream",
     "text": [
      "<class 'pandas.core.frame.DataFrame'>\n",
      "RangeIndex: 10194 entries, 0 to 10193\n",
      "Data columns (total 11 columns):\n",
      " #   Column       Non-Null Count  Dtype  \n",
      "---  ------       --------------  -----  \n",
      " 0   Date         10194 non-null  object \n",
      " 1   Time         10194 non-null  object \n",
      " 2   Temperature  10194 non-null  int64  \n",
      " 3   Dew Point    10194 non-null  int64  \n",
      " 4   Humidity     10194 non-null  int64  \n",
      " 5   Wind         10188 non-null  object \n",
      " 6   Wind Speed   10188 non-null  float64\n",
      " 7   Wind Gust    2732 non-null   float64\n",
      " 8   Pressure     10194 non-null  float64\n",
      " 9   Precip       10194 non-null  float64\n",
      " 10  Condition    10194 non-null  object \n",
      "dtypes: float64(4), int64(3), object(4)\n",
      "memory usage: 876.2+ KB\n"
     ]
    }
   ],
   "source": [
    "#attribute types\n",
    "weather_data.info()"
   ]
  },
  {
   "cell_type": "code",
   "execution_count": 86,
   "metadata": {},
   "outputs": [
    {
     "name": "stdout",
     "output_type": "stream",
     "text": [
      "             Date      Time  Temperature  Dew Point  Humidity  Wind  \\\n",
      "0      2022-01-01  11:15:00           33         28        82   NNE   \n",
      "1      2022-01-01  11:29:00           32         27        82   NNE   \n",
      "2      2022-01-01  11:53:00           32         27        82   NNE   \n",
      "3      2022-01-01  12:00:00           32         28        85   NNE   \n",
      "4      2022-01-01  12:10:00           32         28        85   NNE   \n",
      "...           ...       ...          ...        ...       ...   ...   \n",
      "10189  2022-12-31  13:53:00           37         30        76    SE   \n",
      "10190  2022-12-31  14:53:00           37         31        79    SE   \n",
      "10191  2022-12-31  15:53:00           37         32        82  CALM   \n",
      "10192  2022-12-31  16:53:00           37         32        82    SE   \n",
      "10193  2022-12-31  17:53:00           37         32        82   ESE   \n",
      "\n",
      "       Wind Speed  Wind Gust  Pressure  Precip           Condition  \\\n",
      "0            21.0       31.0     29.17     0.0  Light Snow / Windy   \n",
      "1            22.0       31.0     29.17     0.0  Light Snow / Windy   \n",
      "2            21.0       33.0     29.18     0.0  Light Snow / Windy   \n",
      "3            22.0       31.0     29.18     0.0  Light Snow / Windy   \n",
      "4            21.0       29.0     29.17     0.0  Light Snow / Windy   \n",
      "...           ...        ...       ...     ...                 ...   \n",
      "10189         9.0       18.0     29.23     0.0              Cloudy   \n",
      "10190        10.0        NaN     29.21     0.0              Cloudy   \n",
      "10191         0.0        NaN     29.22     0.0              Cloudy   \n",
      "10192         6.0        NaN     29.22     0.0              Cloudy   \n",
      "10193         7.0        NaN     29.19     0.0              Cloudy   \n",
      "\n",
      "                 DateTime  \n",
      "0     2022-01-01 11:15:00  \n",
      "1     2022-01-01 11:29:00  \n",
      "2     2022-01-01 11:53:00  \n",
      "3     2022-01-01 12:00:00  \n",
      "4     2022-01-01 12:10:00  \n",
      "...                   ...  \n",
      "10189 2022-12-31 13:53:00  \n",
      "10190 2022-12-31 14:53:00  \n",
      "10191 2022-12-31 15:53:00  \n",
      "10192 2022-12-31 16:53:00  \n",
      "10193 2022-12-31 17:53:00  \n",
      "\n",
      "[10194 rows x 12 columns]\n"
     ]
    }
   ],
   "source": [
    "# Kombiniere \"Date\" und \"Time\" und speichere das Ergebnis in der Spalte \"DateTime\"\n",
    "weather_data['DateTime'] = pd.to_datetime(weather_data['Date'] + ' ' + weather_data['Time'], format='%Y-%m-%d %H:%M:%S')\n",
    "\n",
    "# Setze den Index des DataFrames auf die Spalte \"DateTime\"\n",
    "weather_data_indexed_by_date = weather_data.set_index('DateTime')\n",
    "\n",
    "# Ausgabe des aktualisierten DataFrame mit der neuen Spalte\n",
    "print(weather_data)"
   ]
  },
  {
   "cell_type": "code",
   "execution_count": 87,
   "metadata": {},
   "outputs": [
    {
     "name": "stdout",
     "output_type": "stream",
     "text": [
      "<class 'pandas.core.frame.DataFrame'>\n",
      "RangeIndex: 10194 entries, 0 to 10193\n",
      "Data columns (total 12 columns):\n",
      " #   Column       Non-Null Count  Dtype         \n",
      "---  ------       --------------  -----         \n",
      " 0   Date         10194 non-null  object        \n",
      " 1   Time         10194 non-null  object        \n",
      " 2   Temperature  10194 non-null  int64         \n",
      " 3   Dew Point    10194 non-null  int64         \n",
      " 4   Humidity     10194 non-null  int64         \n",
      " 5   Wind         10188 non-null  object        \n",
      " 6   Wind Speed   10188 non-null  float64       \n",
      " 7   Wind Gust    2732 non-null   float64       \n",
      " 8   Pressure     10194 non-null  float64       \n",
      " 9   Precip       10194 non-null  float64       \n",
      " 10  Condition    10194 non-null  object        \n",
      " 11  DateTime     10194 non-null  datetime64[ns]\n",
      "dtypes: datetime64[ns](1), float64(4), int64(3), object(4)\n",
      "memory usage: 955.8+ KB\n"
     ]
    }
   ],
   "source": [
    "#attribute types\n",
    "weather_data.info()"
   ]
  },
  {
   "cell_type": "code",
   "execution_count": 88,
   "metadata": {},
   "outputs": [
    {
     "data": {
      "text/plain": [
       "Date              0\n",
       "Time              0\n",
       "Temperature       0\n",
       "Dew Point         0\n",
       "Humidity          0\n",
       "Wind              6\n",
       "Wind Speed        6\n",
       "Wind Gust      7462\n",
       "Pressure          0\n",
       "Precip            0\n",
       "Condition         0\n",
       "DateTime          0\n",
       "dtype: int64"
      ]
     },
     "execution_count": 88,
     "metadata": {},
     "output_type": "execute_result"
    }
   ],
   "source": [
    "#check for null values\n",
    "weather_data.isnull().sum()"
   ]
  },
  {
   "cell_type": "code",
   "execution_count": 89,
   "metadata": {},
   "outputs": [],
   "source": [
    "# Delete \"Time\", \"Date\", \"Dew Point\", \"Humidity\", \"Wind\", \"Wind Gust\", \"Pressure\" columns\n",
    "weather_data.drop(['Time', 'Date', 'Dew Point', 'Humidity', 'Wind', 'Wind Gust', 'Pressure'], axis=1, inplace=True)\n"
   ]
  },
  {
   "cell_type": "code",
   "execution_count": 90,
   "metadata": {},
   "outputs": [
    {
     "data": {
      "text/plain": [
       "Temperature    0\n",
       "Wind Speed     6\n",
       "Precip         0\n",
       "Condition      0\n",
       "DateTime       0\n",
       "dtype: int64"
      ]
     },
     "execution_count": 90,
     "metadata": {},
     "output_type": "execute_result"
    }
   ],
   "source": [
    "#check for null values\n",
    "weather_data.isnull().sum()"
   ]
  },
  {
   "cell_type": "code",
   "execution_count": 91,
   "metadata": {},
   "outputs": [
    {
     "name": "stdout",
     "output_type": "stream",
     "text": [
      "There are 6 nan values for Wind Speed\n"
     ]
    },
    {
     "data": {
      "text/html": [
       "<div>\n",
       "<style scoped>\n",
       "    .dataframe tbody tr th:only-of-type {\n",
       "        vertical-align: middle;\n",
       "    }\n",
       "\n",
       "    .dataframe tbody tr th {\n",
       "        vertical-align: top;\n",
       "    }\n",
       "\n",
       "    .dataframe thead th {\n",
       "        text-align: right;\n",
       "    }\n",
       "</style>\n",
       "<table border=\"1\" class=\"dataframe\">\n",
       "  <thead>\n",
       "    <tr style=\"text-align: right;\">\n",
       "      <th></th>\n",
       "      <th>Temperature</th>\n",
       "      <th>Wind Speed</th>\n",
       "      <th>Precip</th>\n",
       "      <th>Condition</th>\n",
       "      <th>DateTime</th>\n",
       "    </tr>\n",
       "  </thead>\n",
       "  <tbody>\n",
       "    <tr>\n",
       "      <th>5225</th>\n",
       "      <td>81</td>\n",
       "      <td>NaN</td>\n",
       "      <td>0.0</td>\n",
       "      <td>Light Rain with Thunder</td>\n",
       "      <td>2022-07-04 18:50:00</td>\n",
       "    </tr>\n",
       "    <tr>\n",
       "      <th>5965</th>\n",
       "      <td>81</td>\n",
       "      <td>NaN</td>\n",
       "      <td>0.0</td>\n",
       "      <td>Partly Cloudy</td>\n",
       "      <td>2022-07-31 03:53:00</td>\n",
       "    </tr>\n",
       "    <tr>\n",
       "      <th>6098</th>\n",
       "      <td>78</td>\n",
       "      <td>NaN</td>\n",
       "      <td>0.0</td>\n",
       "      <td>Fair</td>\n",
       "      <td>2022-08-05 01:53:00</td>\n",
       "    </tr>\n",
       "    <tr>\n",
       "      <th>7950</th>\n",
       "      <td>40</td>\n",
       "      <td>NaN</td>\n",
       "      <td>0.0</td>\n",
       "      <td>Fair</td>\n",
       "      <td>2022-10-15 02:53:00</td>\n",
       "    </tr>\n",
       "    <tr>\n",
       "      <th>8609</th>\n",
       "      <td>56</td>\n",
       "      <td>NaN</td>\n",
       "      <td>0.0</td>\n",
       "      <td>Cloudy</td>\n",
       "      <td>2022-11-09 03:53:00</td>\n",
       "    </tr>\n",
       "    <tr>\n",
       "      <th>8947</th>\n",
       "      <td>26</td>\n",
       "      <td>NaN</td>\n",
       "      <td>0.0</td>\n",
       "      <td>Mostly Cloudy</td>\n",
       "      <td>2022-11-19 09:53:00</td>\n",
       "    </tr>\n",
       "  </tbody>\n",
       "</table>\n",
       "</div>"
      ],
      "text/plain": [
       "      Temperature  Wind Speed  Precip                Condition  \\\n",
       "5225           81         NaN     0.0  Light Rain with Thunder   \n",
       "5965           81         NaN     0.0            Partly Cloudy   \n",
       "6098           78         NaN     0.0                     Fair   \n",
       "7950           40         NaN     0.0                     Fair   \n",
       "8609           56         NaN     0.0                   Cloudy   \n",
       "8947           26         NaN     0.0            Mostly Cloudy   \n",
       "\n",
       "                DateTime  \n",
       "5225 2022-07-04 18:50:00  \n",
       "5965 2022-07-31 03:53:00  \n",
       "6098 2022-08-05 01:53:00  \n",
       "7950 2022-10-15 02:53:00  \n",
       "8609 2022-11-09 03:53:00  \n",
       "8947 2022-11-19 09:53:00  "
      ]
     },
     "execution_count": 91,
     "metadata": {},
     "output_type": "execute_result"
    }
   ],
   "source": [
    "#print nan Values for columns \"Wind Speed\"\n",
    "nan_values_for_Wind_Speed = weather_data.loc[np.isnan(weather_data['Wind Speed'])]\n",
    "print(\"There are\", len(nan_values_for_Wind_Speed), \"nan values for Wind Speed\")\n",
    "nan_values_for_Wind_Speed"
   ]
  },
  {
   "cell_type": "code",
   "execution_count": 92,
   "metadata": {},
   "outputs": [],
   "source": [
    "#Delete nan Values rows from Wind Speed \n",
    "weather_data = weather_data.dropna(axis=0, inplace=False)"
   ]
  },
  {
   "cell_type": "code",
   "execution_count": 93,
   "metadata": {},
   "outputs": [
    {
     "data": {
      "text/plain": [
       "Temperature    0\n",
       "Wind Speed     0\n",
       "Precip         0\n",
       "Condition      0\n",
       "DateTime       0\n",
       "dtype: int64"
      ]
     },
     "execution_count": 93,
     "metadata": {},
     "output_type": "execute_result"
    }
   ],
   "source": [
    "#check for null values\n",
    "weather_data.isnull().sum()"
   ]
  },
  {
   "cell_type": "code",
   "execution_count": 94,
   "metadata": {},
   "outputs": [
    {
     "name": "stdout",
     "output_type": "stream",
     "text": [
      "<class 'pandas.core.frame.DataFrame'>\n",
      "Int64Index: 10188 entries, 0 to 10193\n",
      "Data columns (total 5 columns):\n",
      " #   Column       Non-Null Count  Dtype         \n",
      "---  ------       --------------  -----         \n",
      " 0   Temperature  10188 non-null  int64         \n",
      " 1   Wind Speed   10188 non-null  float64       \n",
      " 2   Precip       10188 non-null  float64       \n",
      " 3   Condition    10188 non-null  object        \n",
      " 4   DateTime     10188 non-null  datetime64[ns]\n",
      "dtypes: datetime64[ns](1), float64(2), int64(1), object(1)\n",
      "memory usage: 477.6+ KB\n"
     ]
    }
   ],
   "source": [
    "weather_data.info()"
   ]
  },
  {
   "cell_type": "code",
   "execution_count": 95,
   "metadata": {},
   "outputs": [
    {
     "name": "stdout",
     "output_type": "stream",
     "text": [
      "8336   2022-10-30 02:53:00\n",
      "8337   2022-10-30 02:53:00\n",
      "Name: DateTime, dtype: datetime64[ns]\n"
     ]
    }
   ],
   "source": [
    "# Check for duplicate entries in the \"DateTime\" column\n",
    "duplicates = weather_data[weather_data['DateTime'].duplicated(keep=False)]\n",
    "\n",
    "# Output of the duplicate entries of the \"DateTime\" column\n",
    "print(duplicates['DateTime'])"
   ]
  },
  {
   "cell_type": "code",
   "execution_count": 96,
   "metadata": {},
   "outputs": [
    {
     "name": "stderr",
     "output_type": "stream",
     "text": [
      "C:\\Users\\werwie\\AppData\\Local\\Temp\\ipykernel_3268\\2532675772.py:2: SettingWithCopyWarning: \n",
      "A value is trying to be set on a copy of a slice from a DataFrame\n",
      "\n",
      "See the caveats in the documentation: https://pandas.pydata.org/pandas-docs/stable/user_guide/indexing.html#returning-a-view-versus-a-copy\n",
      "  weather_data.drop_duplicates(subset='DateTime', keep='first', inplace=True)\n"
     ]
    }
   ],
   "source": [
    "# Delete duplicates \n",
    "weather_data.drop_duplicates(subset='DateTime', keep='first', inplace=True)"
   ]
  },
  {
   "cell_type": "code",
   "execution_count": 97,
   "metadata": {},
   "outputs": [
    {
     "data": {
      "text/html": [
       "<div>\n",
       "<style scoped>\n",
       "    .dataframe tbody tr th:only-of-type {\n",
       "        vertical-align: middle;\n",
       "    }\n",
       "\n",
       "    .dataframe tbody tr th {\n",
       "        vertical-align: top;\n",
       "    }\n",
       "\n",
       "    .dataframe thead th {\n",
       "        text-align: right;\n",
       "    }\n",
       "</style>\n",
       "<table border=\"1\" class=\"dataframe\">\n",
       "  <thead>\n",
       "    <tr style=\"text-align: right;\">\n",
       "      <th></th>\n",
       "      <th>Temperature</th>\n",
       "      <th>Wind Speed</th>\n",
       "      <th>Precip</th>\n",
       "      <th>Condition</th>\n",
       "      <th>DateTime</th>\n",
       "    </tr>\n",
       "  </thead>\n",
       "  <tbody>\n",
       "  </tbody>\n",
       "</table>\n",
       "</div>"
      ],
      "text/plain": [
       "Empty DataFrame\n",
       "Columns: [Temperature, Wind Speed, Precip, Condition, DateTime]\n",
       "Index: []"
      ]
     },
     "execution_count": 97,
     "metadata": {},
     "output_type": "execute_result"
    }
   ],
   "source": [
    "#check if there are duplicate entries\n",
    "weather_data[weather_data.duplicated()]"
   ]
  },
  {
   "cell_type": "code",
   "execution_count": 98,
   "metadata": {},
   "outputs": [],
   "source": [
    "#check if column \"Precip\" is binary \n",
    "def drop_non_binary_precip_rows(df):\n",
    "    non_binary_rows = ~((df['Precip'] == 0) | (df['Precip'] == 1))\n",
    "    return df.drop(df[non_binary_rows].index)\n",
    "\n",
    "weather_data = drop_non_binary_precip_rows(weather_data)"
   ]
  },
  {
   "cell_type": "code",
   "execution_count": 99,
   "metadata": {},
   "outputs": [
    {
     "name": "stdout",
     "output_type": "stream",
     "text": [
      "Ist jede Zeile der Spalte 'Precip' binär? True\n"
     ]
    }
   ],
   "source": [
    "def check_binary_precip_values(df):\n",
    "    return (df['Precip'] == 0) | (df['Precip'] == 1)\n",
    "\n",
    "is_binary = check_binary_precip_values(weather_data).all()\n",
    "print(\"Ist jede Zeile der Spalte 'Precip' binär?\", is_binary)"
   ]
  },
  {
   "cell_type": "code",
   "execution_count": 100,
   "metadata": {},
   "outputs": [
    {
     "name": "stdout",
     "output_type": "stream",
     "text": [
      "Earliest date entry: 2022-01-01 11:15:00\n",
      "Latest date entry: 2022-12-31 17:53:00\n"
     ]
    }
   ],
   "source": [
    "#check earliest DateTime entry and latest DateTime entry \n",
    "start = weather_data['DateTime'].min()\n",
    "print(\"Earliest date entry:\", start)\n",
    "end = weather_data['DateTime'].max()\n",
    "print(\"Latest date entry:\", end)"
   ]
  },
  {
   "cell_type": "code",
   "execution_count": 101,
   "metadata": {},
   "outputs": [
    {
     "data": {
      "text/plain": [
       "8712"
      ]
     },
     "execution_count": 101,
     "metadata": {},
     "output_type": "execute_result"
    }
   ],
   "source": [
    "date_range = pd.date_range(start, end, freq = 'H')\n",
    "\n",
    "#for faster lookup\n",
    "def get_missing_dates():\n",
    "    out = []\n",
    "    weather_data_indexed_by_date = weather_data.set_index('DateTime')\n",
    "\n",
    "    for date in date_range:\n",
    "        try:\n",
    "           weather_data_indexed_by_date.loc[date.strftime('%Y-%m-%d %H:%M:%S'),]\n",
    "        except KeyError:\n",
    "            out.append(date)\n",
    "    return out\n",
    "missing_dates = get_missing_dates()\n",
    "len(missing_dates)"
   ]
  },
  {
   "cell_type": "code",
   "execution_count": 102,
   "metadata": {},
   "outputs": [
    {
     "data": {
      "image/png": "[encoded data removed]",
      "text/plain": [
       "<Figure size 640x480 with 1 Axes>"
      ]
     },
     "metadata": {},
     "output_type": "display_data"
    }
   ],
   "source": [
    "months = {'January': 0, 'February': 0, 'March': 0, 'April': 0, \n",
    "          'May': 0, 'June': 0, 'July': 0, 'August': 0, \n",
    "          'September': 0, 'October': 0, 'November': 0, 'December': 0}\n",
    "\n",
    "for date in missing_dates:\n",
    "    months[date.month_name()] = months[date.month_name()] + 1\n",
    "\n",
    "Fig = plt.figure()\n",
    "ax = Fig.add_axes([0.5, 0.5, 1.5, 0.5])\n",
    "ax.plot(months.keys(), months.values())\n",
    "ax.set_xlabel('Months')\n",
    "ax.set_ylabel('Number of missing dates')\n",
    "ax.set_title('Missing Data for every month')\n",
    "plt.show()"
   ]
  },
  {
   "cell_type": "code",
   "execution_count": 103,
   "metadata": {},
   "outputs": [
    {
     "name": "stdout",
     "output_type": "stream",
     "text": [
      "Minium temperature: -9 Fahrenheit\n",
      "Max temperature: 101 Fahrenheit\n"
     ]
    }
   ],
   "source": [
    "#check min and max temperature \n",
    "min_temperature = weather_data[\"Temperature\"].min()\n",
    "print(\"Minium temperature:\", min_temperature, \"Fahrenheit\")\n",
    "\n",
    "max_temperature = weather_data[\"Temperature\"].max()\n",
    "print(\"Max temperature:\", max_temperature, \"Fahrenheit\")"
   ]
  },
  {
   "cell_type": "code",
   "execution_count": 104,
   "metadata": {},
   "outputs": [
    {
     "name": "stdout",
     "output_type": "stream",
     "text": [
      "Minium Wind Speed: 0.0 mph\n",
      "Max Wind Speed: 37.0 mph\n"
     ]
    }
   ],
   "source": [
    "#check min and max Wind Speed\n",
    "min_Wind_Speed = weather_data[\"Wind Speed\"].min()\n",
    "print(\"Minium Wind Speed:\", min_Wind_Speed, \"mph\")\n",
    "\n",
    "max_Wind_Speed = weather_data[\"Wind Speed\"].max()\n",
    "print(\"Max Wind Speed:\", max_Wind_Speed, \"mph\")"
   ]
  },
  {
   "attachments": {},
   "cell_type": "markdown",
   "metadata": {},
   "source": [
    "### Fit Weather Data into 15min steps according Taxi Data and fill missing data"
   ]
  },
  {
   "cell_type": "code",
   "execution_count": 105,
   "metadata": {},
   "outputs": [],
   "source": [
    "#fit data into minute steps of 00,15,30,45\n",
    "index = 0\n",
    "time = timedelta(minutes=15)\n",
    "last_index = weather_data.last_valid_index()\n",
    "fit_weather_data = pd.DataFrame({'date_time' : [], 'temperature' : [], 'wind_speed' : [], 'precip' : [], 'condition' : []})\n",
    "current_date = datetime(2022, 1, 1, 0, 0, 0)\n",
    "end_date = datetime(2023, 1, 1, 0, 0, 0)\n",
    "\n",
    "#loops to calculate last fitting weather data entry to compute current step\n",
    "while current_date < end_date:\n",
    "\n",
    "    if last_index != index:\n",
    "        next_index = index\n",
    "        search = True\n",
    "\n",
    "        while search:\n",
    "\n",
    "          if next_index + 1 >= last_index:\n",
    "             break\n",
    "          \n",
    "          while next_index + 1 not in weather_data.index:\n",
    "            next_index += 1\n",
    "\n",
    "          if weather_data.loc[next_index + 1, 'DateTime'] < current_date:\n",
    "            next_index += 1\n",
    "            index = next_index\n",
    "\n",
    "          else:\n",
    "             search = False\n",
    "             break\n",
    "\n",
    "    #new row with time, temperature, wind speed, precip, condition\n",
    "    new_row = {'date_time' : current_date, 'temperature' : weather_data.loc[index, 'Temperature'], 'wind_speed' : weather_data.loc[index, 'Wind Speed'],\n",
    "                'precip' : weather_data.loc[index, 'Precip'], 'condition' : weather_data.loc[index, 'Condition']}\n",
    "    #add to new dataframe\n",
    "    fit_weather_data.loc[len(fit_weather_data)] = new_row\n",
    "    #next 15min date\n",
    "    current_date += time"
   ]
  },
  {
   "cell_type": "code",
   "execution_count": 106,
   "metadata": {},
   "outputs": [
    {
     "data": {
      "text/html": [
       "<div>\n",
       "<style scoped>\n",
       "    .dataframe tbody tr th:only-of-type {\n",
       "        vertical-align: middle;\n",
       "    }\n",
       "\n",
       "    .dataframe tbody tr th {\n",
       "        vertical-align: top;\n",
       "    }\n",
       "\n",
       "    .dataframe thead th {\n",
       "        text-align: right;\n",
       "    }\n",
       "</style>\n",
       "<table border=\"1\" class=\"dataframe\">\n",
       "  <thead>\n",
       "    <tr style=\"text-align: right;\">\n",
       "      <th></th>\n",
       "      <th>date_time</th>\n",
       "      <th>temperature</th>\n",
       "      <th>wind_speed</th>\n",
       "      <th>precip</th>\n",
       "      <th>condition</th>\n",
       "    </tr>\n",
       "  </thead>\n",
       "  <tbody>\n",
       "    <tr>\n",
       "      <th>0</th>\n",
       "      <td>2022-01-01 00:00:00</td>\n",
       "      <td>33</td>\n",
       "      <td>21.0</td>\n",
       "      <td>0.0</td>\n",
       "      <td>Light Snow / Windy</td>\n",
       "    </tr>\n",
       "    <tr>\n",
       "      <th>1</th>\n",
       "      <td>2022-01-01 00:15:00</td>\n",
       "      <td>33</td>\n",
       "      <td>21.0</td>\n",
       "      <td>0.0</td>\n",
       "      <td>Light Snow / Windy</td>\n",
       "    </tr>\n",
       "    <tr>\n",
       "      <th>2</th>\n",
       "      <td>2022-01-01 00:30:00</td>\n",
       "      <td>33</td>\n",
       "      <td>21.0</td>\n",
       "      <td>0.0</td>\n",
       "      <td>Light Snow / Windy</td>\n",
       "    </tr>\n",
       "    <tr>\n",
       "      <th>3</th>\n",
       "      <td>2022-01-01 00:45:00</td>\n",
       "      <td>33</td>\n",
       "      <td>21.0</td>\n",
       "      <td>0.0</td>\n",
       "      <td>Light Snow / Windy</td>\n",
       "    </tr>\n",
       "    <tr>\n",
       "      <th>4</th>\n",
       "      <td>2022-01-01 01:00:00</td>\n",
       "      <td>33</td>\n",
       "      <td>21.0</td>\n",
       "      <td>0.0</td>\n",
       "      <td>Light Snow / Windy</td>\n",
       "    </tr>\n",
       "    <tr>\n",
       "      <th>...</th>\n",
       "      <td>...</td>\n",
       "      <td>...</td>\n",
       "      <td>...</td>\n",
       "      <td>...</td>\n",
       "      <td>...</td>\n",
       "    </tr>\n",
       "    <tr>\n",
       "      <th>35035</th>\n",
       "      <td>2022-12-31 22:45:00</td>\n",
       "      <td>37</td>\n",
       "      <td>6.0</td>\n",
       "      <td>0.0</td>\n",
       "      <td>Cloudy</td>\n",
       "    </tr>\n",
       "    <tr>\n",
       "      <th>35036</th>\n",
       "      <td>2022-12-31 23:00:00</td>\n",
       "      <td>37</td>\n",
       "      <td>6.0</td>\n",
       "      <td>0.0</td>\n",
       "      <td>Cloudy</td>\n",
       "    </tr>\n",
       "    <tr>\n",
       "      <th>35037</th>\n",
       "      <td>2022-12-31 23:15:00</td>\n",
       "      <td>37</td>\n",
       "      <td>6.0</td>\n",
       "      <td>0.0</td>\n",
       "      <td>Cloudy</td>\n",
       "    </tr>\n",
       "    <tr>\n",
       "      <th>35038</th>\n",
       "      <td>2022-12-31 23:30:00</td>\n",
       "      <td>37</td>\n",
       "      <td>6.0</td>\n",
       "      <td>0.0</td>\n",
       "      <td>Cloudy</td>\n",
       "    </tr>\n",
       "    <tr>\n",
       "      <th>35039</th>\n",
       "      <td>2022-12-31 23:45:00</td>\n",
       "      <td>37</td>\n",
       "      <td>6.0</td>\n",
       "      <td>0.0</td>\n",
       "      <td>Cloudy</td>\n",
       "    </tr>\n",
       "  </tbody>\n",
       "</table>\n",
       "<p>35040 rows × 5 columns</p>\n",
       "</div>"
      ],
      "text/plain": [
       "                date_time  temperature  wind_speed  precip           condition\n",
       "0     2022-01-01 00:00:00           33        21.0     0.0  Light Snow / Windy\n",
       "1     2022-01-01 00:15:00           33        21.0     0.0  Light Snow / Windy\n",
       "2     2022-01-01 00:30:00           33        21.0     0.0  Light Snow / Windy\n",
       "3     2022-01-01 00:45:00           33        21.0     0.0  Light Snow / Windy\n",
       "4     2022-01-01 01:00:00           33        21.0     0.0  Light Snow / Windy\n",
       "...                   ...          ...         ...     ...                 ...\n",
       "35035 2022-12-31 22:45:00           37         6.0     0.0              Cloudy\n",
       "35036 2022-12-31 23:00:00           37         6.0     0.0              Cloudy\n",
       "35037 2022-12-31 23:15:00           37         6.0     0.0              Cloudy\n",
       "35038 2022-12-31 23:30:00           37         6.0     0.0              Cloudy\n",
       "35039 2022-12-31 23:45:00           37         6.0     0.0              Cloudy\n",
       "\n",
       "[35040 rows x 5 columns]"
      ]
     },
     "execution_count": 106,
     "metadata": {},
     "output_type": "execute_result"
    }
   ],
   "source": [
    "fit_weather_data"
   ]
  },
  {
   "cell_type": "code",
   "execution_count": 107,
   "metadata": {},
   "outputs": [],
   "source": [
    "#export CSV Data \n",
    "fit_weather_data.to_csv('data\\prepared\\weather_data_2022.csv', index=False)"
   ]
  }
 ],
 "metadata": {
  "kernelspec": {
   "display_name": "Python 3",
   "language": "python",
   "name": "python3"
  },
  "language_info": {
   "codemirror_mode": {
    "name": "ipython",
    "version": 3
   },
   "file_extension": ".py",
   "mimetype": "text/x-python",
   "name": "python",
   "nbconvert_exporter": "python",
   "pygments_lexer": "ipython3",
   "version": "3.9.15"
  },
  "orig_nbformat": 4
 },
 "nbformat": 4,
 "nbformat_minor": 2
}
