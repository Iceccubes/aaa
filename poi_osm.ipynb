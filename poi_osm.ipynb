{
 "cells": [
  {
   "attachments": {},
   "cell_type": "markdown",
   "metadata": {},
   "source": [
    "Crawling and Preparation of Geo-based Point-of-Interest Data for later analysis"
   ]
  },
  {
   "cell_type": "code",
   "execution_count": 23,
   "metadata": {},
   "outputs": [
    {
     "name": "stdout",
     "output_type": "stream",
     "text": [
      "Final Query: (node[amenity=cafe](41.47566020027821,-88.36715698242186,42.154241397276955,-87.20809936523438);node[amenity=bar](41.47566020027821,-88.36715698242186,42.154241397276955,-87.20809936523438););\n",
      "Columns: Index(['type', 'id', 'geometry.type', 'geometry.coordinates',\n",
      "       'properties.addr:city', 'properties.addr:housenumber',\n",
      "       'properties.addr:postcode', 'properties.addr:state',\n",
      "       'properties.addr:street', 'properties.amenity',\n",
      "       ...\n",
      "       'properties.addr:floor', 'properties.brand:en', 'properties.brand:ja',\n",
      "       'properties.name:ja', 'properties.name:zh', 'properties.access',\n",
      "       'properties.brand:zh', 'properties.int_name', 'properties.second_hand',\n",
      "       'properties.leisure'],\n",
      "      dtype='object', length=131)\n"
     ]
    }
   ],
   "source": [
    "# https://wiki.openstreetmap.org/wiki/Key:amenity\n",
    "\n",
    "AMENITY_CATEGORIES = {\n",
    "    'cafe': 'sustenance',\n",
    "    'bar' : 'sustenance',\n",
    "}\n",
    "\n",
    "import overpass\n",
    "import pandas as pd\n",
    "\n",
    "api = overpass.API()\n",
    "\n",
    "bbox = \"(41.47566020027821,-88.36715698242186,42.154241397276955,-87.20809936523438)\"\n",
    "\n",
    "#query = \"[bbox:41.47566020027821,-88.36715698242186,42.154241397276955,-87.20809936523438] (\"\n",
    "query = '('\n",
    "\n",
    "for amenityName in AMENITY_CATEGORIES.keys():\n",
    "    query = f'{query}node[amenity={amenityName}]{bbox};'\n",
    "\n",
    "query = f'{query});'\n",
    "\n",
    "\n",
    "print(f'Final Query: {query}')\n",
    "response = dict(api.get(query))\n",
    "normalized_response = pd.json_normalize(response, record_path=[\n",
    "    'features',\n",
    "    ])\n",
    "\n",
    "print(f'Columns: {normalized_response.columns}')\n"
   ]
  },
  {
   "cell_type": "code",
   "execution_count": 24,
   "metadata": {},
   "outputs": [
    {
     "name": "stdout",
     "output_type": "stream",
     "text": [
      "               id  longitude   latitude properties.amenity\n",
      "0       306737766 -87.626422  41.880648               cafe\n",
      "1       306744471 -87.626481  41.884367               cafe\n",
      "2       306744602 -87.626335  41.883164               cafe\n",
      "3       310502167 -87.751878  42.040490               cafe\n",
      "4       318276729 -87.633205  41.920845               cafe\n",
      "...           ...        ...        ...                ...\n",
      "1788  10857072627 -87.634498  41.909819                bar\n",
      "1789  10857072632 -87.634495  41.910601               cafe\n",
      "1790  10873137223 -87.622182  41.897859               cafe\n",
      "1791  10898449937 -87.840883  41.860607               cafe\n",
      "1792  10905746861 -87.759174  42.012436               cafe\n",
      "\n",
      "[1793 rows x 4 columns]\n"
     ]
    }
   ],
   "source": [
    "normalized_response[['longitude','latitude']] = pd.DataFrame(normalized_response['geometry.coordinates'].tolist(), index= normalized_response.index)\n",
    "\n",
    "# Filter Columns\n",
    "filtered_response =  normalized_response[[\n",
    "    'id',\n",
    "    'longitude',\n",
    "    'latitude',\n",
    "    'properties.amenity',\n",
    "]]\n",
    "\n",
    "print(filtered_response)\n",
    "\n",
    "filtered_response.to_csv('./data/prepared/poi-amenitiy.csv')\n"
   ]
  }
 ],
 "metadata": {
  "kernelspec": {
   "display_name": "Python 3",
   "language": "python",
   "name": "python3"
  },
  "language_info": {
   "codemirror_mode": {
    "name": "ipython",
    "version": 3
   },
   "file_extension": ".py",
   "mimetype": "text/x-python",
   "name": "python",
   "nbconvert_exporter": "python",
   "pygments_lexer": "ipython3",
   "version": "3.10.11"
  },
  "orig_nbformat": 4
 },
 "nbformat": 4,
 "nbformat_minor": 2
}
