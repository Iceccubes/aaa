{
 "cells": [
  {
   "attachments": {},
   "cell_type": "markdown",
   "metadata": {},
   "source": [
    "# Taxi Data Preparation"
   ]
  },
  {
   "attachments": {},
   "cell_type": "markdown",
   "metadata": {},
   "source": [
    "## Imports"
   ]
  },
  {
   "cell_type": "code",
   "execution_count": 28,
   "metadata": {},
   "outputs": [],
   "source": [
    "import pandas as pd\n",
    "from datetime import datetime \n",
    "import seaborn as sns"
   ]
  },
  {
   "cell_type": "code",
   "execution_count": 29,
   "metadata": {},
   "outputs": [
    {
     "data": {
      "text/html": [
       "<div>\n",
       "<style scoped>\n",
       "    .dataframe tbody tr th:only-of-type {\n",
       "        vertical-align: middle;\n",
       "    }\n",
       "\n",
       "    .dataframe tbody tr th {\n",
       "        vertical-align: top;\n",
       "    }\n",
       "\n",
       "    .dataframe thead th {\n",
       "        text-align: right;\n",
       "    }\n",
       "</style>\n",
       "<table border=\"1\" class=\"dataframe\">\n",
       "  <thead>\n",
       "    <tr style=\"text-align: right;\">\n",
       "      <th></th>\n",
       "      <th>Trip ID</th>\n",
       "      <th>Taxi ID</th>\n",
       "      <th>Trip Start Timestamp</th>\n",
       "      <th>Trip End Timestamp</th>\n",
       "      <th>Trip Seconds</th>\n",
       "      <th>Trip Miles</th>\n",
       "      <th>Pickup Census Tract</th>\n",
       "      <th>Dropoff Census Tract</th>\n",
       "      <th>Pickup Community Area</th>\n",
       "      <th>Dropoff Community Area</th>\n",
       "      <th>...</th>\n",
       "      <th>Extras</th>\n",
       "      <th>Trip Total</th>\n",
       "      <th>Payment Type</th>\n",
       "      <th>Company</th>\n",
       "      <th>Pickup Centroid Latitude</th>\n",
       "      <th>Pickup Centroid Longitude</th>\n",
       "      <th>Pickup Centroid Location</th>\n",
       "      <th>Dropoff Centroid Latitude</th>\n",
       "      <th>Dropoff Centroid Longitude</th>\n",
       "      <th>Dropoff Centroid  Location</th>\n",
       "    </tr>\n",
       "  </thead>\n",
       "  <tbody>\n",
       "    <tr>\n",
       "      <th>0</th>\n",
       "      <td>bcfa19f2539021c054809d4c3993d226996ae095</td>\n",
       "      <td>368ce5511598af2cc07efdb68067d381174fdac1d47a28...</td>\n",
       "      <td>01/01/2022 12:00:00 AM</td>\n",
       "      <td>01/01/2022 12:00:00 AM</td>\n",
       "      <td>152.0</td>\n",
       "      <td>0.10</td>\n",
       "      <td>NaN</td>\n",
       "      <td>NaN</td>\n",
       "      <td>NaN</td>\n",
       "      <td>NaN</td>\n",
       "      <td>...</td>\n",
       "      <td>0.0</td>\n",
       "      <td>3.75</td>\n",
       "      <td>Cash</td>\n",
       "      <td>Medallion Leasin</td>\n",
       "      <td>NaN</td>\n",
       "      <td>NaN</td>\n",
       "      <td>NaN</td>\n",
       "      <td>NaN</td>\n",
       "      <td>NaN</td>\n",
       "      <td>NaN</td>\n",
       "    </tr>\n",
       "    <tr>\n",
       "      <th>1</th>\n",
       "      <td>2aba69ff015f9ea8e7bff43cab7eddb228f34a12</td>\n",
       "      <td>449fa4909552757130d09d98ebc7770e2dd94579036b0e...</td>\n",
       "      <td>01/01/2022 12:00:00 AM</td>\n",
       "      <td>01/01/2022 12:30:00 AM</td>\n",
       "      <td>2360.0</td>\n",
       "      <td>17.44</td>\n",
       "      <td>NaN</td>\n",
       "      <td>NaN</td>\n",
       "      <td>NaN</td>\n",
       "      <td>8.0</td>\n",
       "      <td>...</td>\n",
       "      <td>5.0</td>\n",
       "      <td>52.75</td>\n",
       "      <td>Cash</td>\n",
       "      <td>Flash Cab</td>\n",
       "      <td>NaN</td>\n",
       "      <td>NaN</td>\n",
       "      <td>NaN</td>\n",
       "      <td>41.899602</td>\n",
       "      <td>-87.633308</td>\n",
       "      <td>POINT (-87.6333080367 41.899602111)</td>\n",
       "    </tr>\n",
       "    <tr>\n",
       "      <th>2</th>\n",
       "      <td>54d812a0b88f8f9707825261014b3563a0a60ace</td>\n",
       "      <td>f98ae5e71fdda8806710af321dce58002146886c013f41...</td>\n",
       "      <td>01/01/2022 12:00:00 AM</td>\n",
       "      <td>01/01/2022 12:00:00 AM</td>\n",
       "      <td>536.0</td>\n",
       "      <td>4.83</td>\n",
       "      <td>NaN</td>\n",
       "      <td>NaN</td>\n",
       "      <td>28.0</td>\n",
       "      <td>22.0</td>\n",
       "      <td>...</td>\n",
       "      <td>0.0</td>\n",
       "      <td>14.75</td>\n",
       "      <td>Cash</td>\n",
       "      <td>Globe Taxi</td>\n",
       "      <td>41.874005</td>\n",
       "      <td>-87.663518</td>\n",
       "      <td>POINT (-87.6635175498 41.874005383)</td>\n",
       "      <td>41.922761</td>\n",
       "      <td>-87.699155</td>\n",
       "      <td>POINT (-87.6991553432 41.9227606205)</td>\n",
       "    </tr>\n",
       "    <tr>\n",
       "      <th>3</th>\n",
       "      <td>7125b9e03a0f16c2dfb5eaf73ed057dc51eb68ef</td>\n",
       "      <td>8eca35a570101ad24c638f1f43eecce9d0cb7843e13a75...</td>\n",
       "      <td>01/01/2022 12:00:00 AM</td>\n",
       "      <td>01/01/2022 12:15:00 AM</td>\n",
       "      <td>897.0</td>\n",
       "      <td>2.07</td>\n",
       "      <td>NaN</td>\n",
       "      <td>NaN</td>\n",
       "      <td>8.0</td>\n",
       "      <td>32.0</td>\n",
       "      <td>...</td>\n",
       "      <td>1.5</td>\n",
       "      <td>11.25</td>\n",
       "      <td>Cash</td>\n",
       "      <td>Sun Taxi</td>\n",
       "      <td>41.899602</td>\n",
       "      <td>-87.633308</td>\n",
       "      <td>POINT (-87.6333080367 41.899602111)</td>\n",
       "      <td>41.878866</td>\n",
       "      <td>-87.625192</td>\n",
       "      <td>POINT (-87.6251921424 41.8788655841)</td>\n",
       "    </tr>\n",
       "    <tr>\n",
       "      <th>4</th>\n",
       "      <td>f1a650ee419b4e52d766432e6f86eca3457bfb37</td>\n",
       "      <td>e2d8418fcdb061eee0a4318fba0a6a1200aaff0143feb0...</td>\n",
       "      <td>01/01/2022 12:00:00 AM</td>\n",
       "      <td>01/01/2022 12:30:00 AM</td>\n",
       "      <td>2200.0</td>\n",
       "      <td>2.48</td>\n",
       "      <td>NaN</td>\n",
       "      <td>NaN</td>\n",
       "      <td>8.0</td>\n",
       "      <td>32.0</td>\n",
       "      <td>...</td>\n",
       "      <td>0.0</td>\n",
       "      <td>11.50</td>\n",
       "      <td>Mobile</td>\n",
       "      <td>Chicago Independents</td>\n",
       "      <td>41.899602</td>\n",
       "      <td>-87.633308</td>\n",
       "      <td>POINT (-87.6333080367 41.899602111)</td>\n",
       "      <td>41.878866</td>\n",
       "      <td>-87.625192</td>\n",
       "      <td>POINT (-87.6251921424 41.8788655841)</td>\n",
       "    </tr>\n",
       "    <tr>\n",
       "      <th>...</th>\n",
       "      <td>...</td>\n",
       "      <td>...</td>\n",
       "      <td>...</td>\n",
       "      <td>...</td>\n",
       "      <td>...</td>\n",
       "      <td>...</td>\n",
       "      <td>...</td>\n",
       "      <td>...</td>\n",
       "      <td>...</td>\n",
       "      <td>...</td>\n",
       "      <td>...</td>\n",
       "      <td>...</td>\n",
       "      <td>...</td>\n",
       "      <td>...</td>\n",
       "      <td>...</td>\n",
       "      <td>...</td>\n",
       "      <td>...</td>\n",
       "      <td>...</td>\n",
       "      <td>...</td>\n",
       "      <td>...</td>\n",
       "      <td>...</td>\n",
       "    </tr>\n",
       "    <tr>\n",
       "      <th>6382420</th>\n",
       "      <td>f5ba11ba1d2f0dd11c598d05481947e19c8e1a17</td>\n",
       "      <td>0cbf5c0f6aca3628d77c7b6fe89715757ed402a70b0f8b...</td>\n",
       "      <td>12/31/2022 11:45:00 PM</td>\n",
       "      <td>12/31/2022 11:45:00 PM</td>\n",
       "      <td>539.0</td>\n",
       "      <td>1.85</td>\n",
       "      <td>NaN</td>\n",
       "      <td>NaN</td>\n",
       "      <td>32.0</td>\n",
       "      <td>28.0</td>\n",
       "      <td>...</td>\n",
       "      <td>0.0</td>\n",
       "      <td>11.48</td>\n",
       "      <td>Mobile</td>\n",
       "      <td>Globe Taxi</td>\n",
       "      <td>41.878866</td>\n",
       "      <td>-87.625192</td>\n",
       "      <td>POINT (-87.6251921424 41.8788655841)</td>\n",
       "      <td>41.874005</td>\n",
       "      <td>-87.663518</td>\n",
       "      <td>POINT (-87.6635175498 41.874005383)</td>\n",
       "    </tr>\n",
       "    <tr>\n",
       "      <th>6382421</th>\n",
       "      <td>f8fad61a583724263dcc628c822ec835f212665d</td>\n",
       "      <td>081758ced4767105bfa217f7b0784d72d37e12a016fe2a...</td>\n",
       "      <td>12/31/2022 11:45:00 PM</td>\n",
       "      <td>01/01/2023 12:30:00 AM</td>\n",
       "      <td>3029.0</td>\n",
       "      <td>12.93</td>\n",
       "      <td>NaN</td>\n",
       "      <td>NaN</td>\n",
       "      <td>NaN</td>\n",
       "      <td>38.0</td>\n",
       "      <td>...</td>\n",
       "      <td>0.0</td>\n",
       "      <td>40.50</td>\n",
       "      <td>Cash</td>\n",
       "      <td>5 Star Taxi</td>\n",
       "      <td>NaN</td>\n",
       "      <td>NaN</td>\n",
       "      <td>NaN</td>\n",
       "      <td>41.812949</td>\n",
       "      <td>-87.617860</td>\n",
       "      <td>POINT (-87.6178596758 41.8129489392)</td>\n",
       "    </tr>\n",
       "    <tr>\n",
       "      <th>6382422</th>\n",
       "      <td>f88a3f1bc24e4afa13d6a5697be43d953f2065cd</td>\n",
       "      <td>96c3fa383c9adacc965af778248d6ef1b3a20ada7e623e...</td>\n",
       "      <td>12/31/2022 11:45:00 PM</td>\n",
       "      <td>01/01/2023 12:00:00 AM</td>\n",
       "      <td>449.0</td>\n",
       "      <td>1.66</td>\n",
       "      <td>NaN</td>\n",
       "      <td>NaN</td>\n",
       "      <td>8.0</td>\n",
       "      <td>28.0</td>\n",
       "      <td>...</td>\n",
       "      <td>4.0</td>\n",
       "      <td>11.75</td>\n",
       "      <td>Cash</td>\n",
       "      <td>Flash Cab</td>\n",
       "      <td>41.899602</td>\n",
       "      <td>-87.633308</td>\n",
       "      <td>POINT (-87.6333080367 41.899602111)</td>\n",
       "      <td>41.874005</td>\n",
       "      <td>-87.663518</td>\n",
       "      <td>POINT (-87.6635175498 41.874005383)</td>\n",
       "    </tr>\n",
       "    <tr>\n",
       "      <th>6382423</th>\n",
       "      <td>f7d9a0b1514d58cb2af513b76759b999b67e5d11</td>\n",
       "      <td>835869d6df51f9ec6e53cb4ac6a1f9e386c26f948cdcca...</td>\n",
       "      <td>12/31/2022 11:45:00 PM</td>\n",
       "      <td>01/01/2023 12:00:00 AM</td>\n",
       "      <td>321.0</td>\n",
       "      <td>0.77</td>\n",
       "      <td>1.703108e+10</td>\n",
       "      <td>1.703108e+10</td>\n",
       "      <td>8.0</td>\n",
       "      <td>8.0</td>\n",
       "      <td>...</td>\n",
       "      <td>1.0</td>\n",
       "      <td>17.00</td>\n",
       "      <td>Credit Card</td>\n",
       "      <td>Taxicab Insurance Agency Llc</td>\n",
       "      <td>41.898332</td>\n",
       "      <td>-87.620763</td>\n",
       "      <td>POINT (-87.6207628651 41.8983317935)</td>\n",
       "      <td>41.895033</td>\n",
       "      <td>-87.619711</td>\n",
       "      <td>POINT (-87.6197106717 41.8950334495)</td>\n",
       "    </tr>\n",
       "    <tr>\n",
       "      <th>6382424</th>\n",
       "      <td>fbfa856b7c2adbeb613cd4eadf76c9c9477ea578</td>\n",
       "      <td>524bfb96fdc1b3d414cade414c1dbc14c16402eb60137f...</td>\n",
       "      <td>12/31/2022 11:45:00 PM</td>\n",
       "      <td>12/31/2022 11:45:00 PM</td>\n",
       "      <td>240.0</td>\n",
       "      <td>0.00</td>\n",
       "      <td>NaN</td>\n",
       "      <td>NaN</td>\n",
       "      <td>NaN</td>\n",
       "      <td>NaN</td>\n",
       "      <td>...</td>\n",
       "      <td>1.0</td>\n",
       "      <td>7.80</td>\n",
       "      <td>Cash</td>\n",
       "      <td>Taxi Affiliation Services</td>\n",
       "      <td>NaN</td>\n",
       "      <td>NaN</td>\n",
       "      <td>NaN</td>\n",
       "      <td>NaN</td>\n",
       "      <td>NaN</td>\n",
       "      <td>NaN</td>\n",
       "    </tr>\n",
       "  </tbody>\n",
       "</table>\n",
       "<p>6382425 rows × 23 columns</p>\n",
       "</div>"
      ],
      "text/plain": [
       "                                          Trip ID  \\\n",
       "0        bcfa19f2539021c054809d4c3993d226996ae095   \n",
       "1        2aba69ff015f9ea8e7bff43cab7eddb228f34a12   \n",
       "2        54d812a0b88f8f9707825261014b3563a0a60ace   \n",
       "3        7125b9e03a0f16c2dfb5eaf73ed057dc51eb68ef   \n",
       "4        f1a650ee419b4e52d766432e6f86eca3457bfb37   \n",
       "...                                           ...   \n",
       "6382420  f5ba11ba1d2f0dd11c598d05481947e19c8e1a17   \n",
       "6382421  f8fad61a583724263dcc628c822ec835f212665d   \n",
       "6382422  f88a3f1bc24e4afa13d6a5697be43d953f2065cd   \n",
       "6382423  f7d9a0b1514d58cb2af513b76759b999b67e5d11   \n",
       "6382424  fbfa856b7c2adbeb613cd4eadf76c9c9477ea578   \n",
       "\n",
       "                                                   Taxi ID  \\\n",
       "0        368ce5511598af2cc07efdb68067d381174fdac1d47a28...   \n",
       "1        449fa4909552757130d09d98ebc7770e2dd94579036b0e...   \n",
       "2        f98ae5e71fdda8806710af321dce58002146886c013f41...   \n",
       "3        8eca35a570101ad24c638f1f43eecce9d0cb7843e13a75...   \n",
       "4        e2d8418fcdb061eee0a4318fba0a6a1200aaff0143feb0...   \n",
       "...                                                    ...   \n",
       "6382420  0cbf5c0f6aca3628d77c7b6fe89715757ed402a70b0f8b...   \n",
       "6382421  081758ced4767105bfa217f7b0784d72d37e12a016fe2a...   \n",
       "6382422  96c3fa383c9adacc965af778248d6ef1b3a20ada7e623e...   \n",
       "6382423  835869d6df51f9ec6e53cb4ac6a1f9e386c26f948cdcca...   \n",
       "6382424  524bfb96fdc1b3d414cade414c1dbc14c16402eb60137f...   \n",
       "\n",
       "           Trip Start Timestamp      Trip End Timestamp  Trip Seconds  \\\n",
       "0        01/01/2022 12:00:00 AM  01/01/2022 12:00:00 AM         152.0   \n",
       "1        01/01/2022 12:00:00 AM  01/01/2022 12:30:00 AM        2360.0   \n",
       "2        01/01/2022 12:00:00 AM  01/01/2022 12:00:00 AM         536.0   \n",
       "3        01/01/2022 12:00:00 AM  01/01/2022 12:15:00 AM         897.0   \n",
       "4        01/01/2022 12:00:00 AM  01/01/2022 12:30:00 AM        2200.0   \n",
       "...                         ...                     ...           ...   \n",
       "6382420  12/31/2022 11:45:00 PM  12/31/2022 11:45:00 PM         539.0   \n",
       "6382421  12/31/2022 11:45:00 PM  01/01/2023 12:30:00 AM        3029.0   \n",
       "6382422  12/31/2022 11:45:00 PM  01/01/2023 12:00:00 AM         449.0   \n",
       "6382423  12/31/2022 11:45:00 PM  01/01/2023 12:00:00 AM         321.0   \n",
       "6382424  12/31/2022 11:45:00 PM  12/31/2022 11:45:00 PM         240.0   \n",
       "\n",
       "         Trip Miles  Pickup Census Tract  Dropoff Census Tract  \\\n",
       "0              0.10                  NaN                   NaN   \n",
       "1             17.44                  NaN                   NaN   \n",
       "2              4.83                  NaN                   NaN   \n",
       "3              2.07                  NaN                   NaN   \n",
       "4              2.48                  NaN                   NaN   \n",
       "...             ...                  ...                   ...   \n",
       "6382420        1.85                  NaN                   NaN   \n",
       "6382421       12.93                  NaN                   NaN   \n",
       "6382422        1.66                  NaN                   NaN   \n",
       "6382423        0.77         1.703108e+10          1.703108e+10   \n",
       "6382424        0.00                  NaN                   NaN   \n",
       "\n",
       "         Pickup Community Area  Dropoff Community Area  ...  Extras  \\\n",
       "0                          NaN                     NaN  ...     0.0   \n",
       "1                          NaN                     8.0  ...     5.0   \n",
       "2                         28.0                    22.0  ...     0.0   \n",
       "3                          8.0                    32.0  ...     1.5   \n",
       "4                          8.0                    32.0  ...     0.0   \n",
       "...                        ...                     ...  ...     ...   \n",
       "6382420                   32.0                    28.0  ...     0.0   \n",
       "6382421                    NaN                    38.0  ...     0.0   \n",
       "6382422                    8.0                    28.0  ...     4.0   \n",
       "6382423                    8.0                     8.0  ...     1.0   \n",
       "6382424                    NaN                     NaN  ...     1.0   \n",
       "\n",
       "         Trip Total  Payment Type                       Company  \\\n",
       "0              3.75          Cash              Medallion Leasin   \n",
       "1             52.75          Cash                     Flash Cab   \n",
       "2             14.75          Cash                    Globe Taxi   \n",
       "3             11.25          Cash                      Sun Taxi   \n",
       "4             11.50        Mobile          Chicago Independents   \n",
       "...             ...           ...                           ...   \n",
       "6382420       11.48        Mobile                    Globe Taxi   \n",
       "6382421       40.50          Cash                   5 Star Taxi   \n",
       "6382422       11.75          Cash                     Flash Cab   \n",
       "6382423       17.00   Credit Card  Taxicab Insurance Agency Llc   \n",
       "6382424        7.80          Cash     Taxi Affiliation Services   \n",
       "\n",
       "         Pickup Centroid Latitude Pickup Centroid Longitude  \\\n",
       "0                             NaN                       NaN   \n",
       "1                             NaN                       NaN   \n",
       "2                       41.874005                -87.663518   \n",
       "3                       41.899602                -87.633308   \n",
       "4                       41.899602                -87.633308   \n",
       "...                           ...                       ...   \n",
       "6382420                 41.878866                -87.625192   \n",
       "6382421                       NaN                       NaN   \n",
       "6382422                 41.899602                -87.633308   \n",
       "6382423                 41.898332                -87.620763   \n",
       "6382424                       NaN                       NaN   \n",
       "\n",
       "                     Pickup Centroid Location  Dropoff Centroid Latitude  \\\n",
       "0                                         NaN                        NaN   \n",
       "1                                         NaN                  41.899602   \n",
       "2         POINT (-87.6635175498 41.874005383)                  41.922761   \n",
       "3         POINT (-87.6333080367 41.899602111)                  41.878866   \n",
       "4         POINT (-87.6333080367 41.899602111)                  41.878866   \n",
       "...                                       ...                        ...   \n",
       "6382420  POINT (-87.6251921424 41.8788655841)                  41.874005   \n",
       "6382421                                   NaN                  41.812949   \n",
       "6382422   POINT (-87.6333080367 41.899602111)                  41.874005   \n",
       "6382423  POINT (-87.6207628651 41.8983317935)                  41.895033   \n",
       "6382424                                   NaN                        NaN   \n",
       "\n",
       "         Dropoff Centroid Longitude            Dropoff Centroid  Location  \n",
       "0                               NaN                                   NaN  \n",
       "1                        -87.633308   POINT (-87.6333080367 41.899602111)  \n",
       "2                        -87.699155  POINT (-87.6991553432 41.9227606205)  \n",
       "3                        -87.625192  POINT (-87.6251921424 41.8788655841)  \n",
       "4                        -87.625192  POINT (-87.6251921424 41.8788655841)  \n",
       "...                             ...                                   ...  \n",
       "6382420                  -87.663518   POINT (-87.6635175498 41.874005383)  \n",
       "6382421                  -87.617860  POINT (-87.6178596758 41.8129489392)  \n",
       "6382422                  -87.663518   POINT (-87.6635175498 41.874005383)  \n",
       "6382423                  -87.619711  POINT (-87.6197106717 41.8950334495)  \n",
       "6382424                         NaN                                   NaN  \n",
       "\n",
       "[6382425 rows x 23 columns]"
      ]
     },
     "execution_count": 29,
     "metadata": {},
     "output_type": "execute_result"
    }
   ],
   "source": [
    "# Import Taxi Trip Datset\n",
    "taxi_trips = pd.read_csv('data/input/Taxi_Trips_-_2022.csv')\n",
    "taxi_trips"
   ]
  },
  {
   "attachments": {},
   "cell_type": "markdown",
   "metadata": {},
   "source": [
    "## Format"
   ]
  },
  {
   "cell_type": "code",
   "execution_count": 30,
   "metadata": {},
   "outputs": [
    {
     "name": "stdout",
     "output_type": "stream",
     "text": [
      "<class 'pandas.core.frame.DataFrame'>\n",
      "RangeIndex: 6382425 entries, 0 to 6382424\n",
      "Data columns (total 23 columns):\n",
      " #   Column                      Dtype  \n",
      "---  ------                      -----  \n",
      " 0   Trip ID                     object \n",
      " 1   Taxi ID                     object \n",
      " 2   Trip Start Timestamp        object \n",
      " 3   Trip End Timestamp          object \n",
      " 4   Trip Seconds                float64\n",
      " 5   Trip Miles                  float64\n",
      " 6   Pickup Census Tract         float64\n",
      " 7   Dropoff Census Tract        float64\n",
      " 8   Pickup Community Area       float64\n",
      " 9   Dropoff Community Area      float64\n",
      " 10  Fare                        float64\n",
      " 11  Tips                        float64\n",
      " 12  Tolls                       float64\n",
      " 13  Extras                      float64\n",
      " 14  Trip Total                  float64\n",
      " 15  Payment Type                object \n",
      " 16  Company                     object \n",
      " 17  Pickup Centroid Latitude    float64\n",
      " 18  Pickup Centroid Longitude   float64\n",
      " 19  Pickup Centroid Location    object \n",
      " 20  Dropoff Centroid Latitude   float64\n",
      " 21  Dropoff Centroid Longitude  float64\n",
      " 22  Dropoff Centroid  Location  object \n",
      "dtypes: float64(15), object(8)\n",
      "memory usage: 1.1+ GB\n"
     ]
    }
   ],
   "source": [
    "#attribute types\n",
    "taxi_trips.info()"
   ]
  },
  {
   "cell_type": "code",
   "execution_count": 31,
   "metadata": {},
   "outputs": [],
   "source": [
    "#transform the Timestamps from object to usable datetime\n",
    "taxi_trips['Trip Start Timestamp'] = pd.to_datetime(taxi_trips['Trip Start Timestamp'])\n",
    "taxi_trips['Trip Start Timestamp'] = pd.to_datetime(taxi_trips['Trip Start Timestamp'], format='%Y-%m-%d %H:%M')\n",
    "taxi_trips['Trip End Timestamp'] = pd.to_datetime(taxi_trips['Trip End Timestamp'])\n",
    "taxi_trips['Trip End Timestamp'] = pd.to_datetime(taxi_trips['Trip End Timestamp'], format='%Y-%m-%d %H:%M')\n",
    "#to extract for example the hour use:\n",
    "#taxi_trips['Trip Start Timestamp'].dt.strftime('%H')"
   ]
  },
  {
   "attachments": {},
   "cell_type": "markdown",
   "metadata": {},
   "source": [
    "## NaN Values"
   ]
  },
  {
   "cell_type": "code",
   "execution_count": 32,
   "metadata": {},
   "outputs": [
    {
     "data": {
      "text/plain": [
       "Trip ID                             0\n",
       "Taxi ID                           354\n",
       "Trip Start Timestamp                0\n",
       "Trip End Timestamp                212\n",
       "Trip Seconds                     1465\n",
       "Trip Miles                         56\n",
       "Pickup Census Tract           3758594\n",
       "Dropoff Census Tract          3707094\n",
       "Pickup Community Area          513853\n",
       "Dropoff Community Area         633684\n",
       "Fare                             3536\n",
       "Tips                             3536\n",
       "Tolls                            3536\n",
       "Extras                           3536\n",
       "Trip Total                       3536\n",
       "Payment Type                        0\n",
       "Company                             0\n",
       "Pickup Centroid Latitude       511551\n",
       "Pickup Centroid Longitude      511551\n",
       "Pickup Centroid Location       511551\n",
       "Dropoff Centroid Latitude      597931\n",
       "Dropoff Centroid Longitude     597931\n",
       "Dropoff Centroid  Location     597931\n",
       "dtype: int64"
      ]
     },
     "execution_count": 32,
     "metadata": {},
     "output_type": "execute_result"
    }
   ],
   "source": [
    "#check for null values\n",
    "taxi_trips.isnull().sum()\n",
    "\n",
    "#Census Tract too big to delete\n",
    "#Community Area null means outside Chicago -> usable\n",
    "#Centroid null means privat or outside -> usable with restriction\n",
    "#'Trip Seconds' not calculable due to inaccurate Timestamps"
   ]
  },
  {
   "cell_type": "code",
   "execution_count": 33,
   "metadata": {},
   "outputs": [
    {
     "data": {
      "text/plain": [
       "Trip ID                             0\n",
       "Taxi ID                             0\n",
       "Trip Start Timestamp                0\n",
       "Trip End Timestamp                  0\n",
       "Trip Seconds                        0\n",
       "Trip Miles                          0\n",
       "Pickup Census Tract           3755453\n",
       "Dropoff Census Tract          3703951\n",
       "Pickup Community Area          512639\n",
       "Dropoff Community Area         632344\n",
       "Fare                                0\n",
       "Tips                                0\n",
       "Tolls                               0\n",
       "Extras                              0\n",
       "Trip Total                          0\n",
       "Payment Type                        0\n",
       "Company                             0\n",
       "Pickup Centroid Latitude       510345\n",
       "Pickup Centroid Longitude      510345\n",
       "Pickup Centroid Location       510345\n",
       "Dropoff Centroid Latitude      596625\n",
       "Dropoff Centroid Longitude     596625\n",
       "Dropoff Centroid  Location     596625\n",
       "dtype: int64"
      ]
     },
     "execution_count": 33,
     "metadata": {},
     "output_type": "execute_result"
    }
   ],
   "source": [
    "#drop specific null columns\n",
    "columns_with_nan = ['Taxi ID', 'Trip End Timestamp', 'Trip Seconds', 'Trip Miles', 'Fare', 'Tips', 'Extras', 'Trip Total']\n",
    "taxi_trips = taxi_trips.dropna(subset=columns_with_nan)\n",
    "taxi_trips.isnull().sum()"
   ]
  },
  {
   "attachments": {},
   "cell_type": "markdown",
   "metadata": {},
   "source": [
    "## Duplicates"
   ]
  },
  {
   "cell_type": "code",
   "execution_count": 34,
   "metadata": {},
   "outputs": [
    {
     "data": {
      "text/plain": [
       "False"
      ]
     },
     "metadata": {},
     "output_type": "display_data"
    }
   ],
   "source": [
    "#check if there are duplicate entries (measured with Trip ID)\n",
    "display(taxi_trips['Trip ID'].duplicated(keep=False).any())"
   ]
  },
  {
   "cell_type": "code",
   "execution_count": 35,
   "metadata": {},
   "outputs": [
    {
     "data": {
      "text/html": [
       "<div>\n",
       "<style scoped>\n",
       "    .dataframe tbody tr th:only-of-type {\n",
       "        vertical-align: middle;\n",
       "    }\n",
       "\n",
       "    .dataframe tbody tr th {\n",
       "        vertical-align: top;\n",
       "    }\n",
       "\n",
       "    .dataframe thead th {\n",
       "        text-align: right;\n",
       "    }\n",
       "</style>\n",
       "<table border=\"1\" class=\"dataframe\">\n",
       "  <thead>\n",
       "    <tr style=\"text-align: right;\">\n",
       "      <th></th>\n",
       "      <th>Trip Start Timestamp</th>\n",
       "      <th>Trip End Timestamp</th>\n",
       "      <th>Taxi ID</th>\n",
       "      <th>next_ride</th>\n",
       "      <th>next_bike_id</th>\n",
       "      <th>bike_id_check</th>\n",
       "      <th>check</th>\n",
       "    </tr>\n",
       "  </thead>\n",
       "  <tbody>\n",
       "    <tr>\n",
       "      <th>195698</th>\n",
       "      <td>2022-01-21 12:15:00</td>\n",
       "      <td>2022-01-21 13:00:00</td>\n",
       "      <td>0041f8f0c91881c1e1913f2548522495fe3c4c719aa67f...</td>\n",
       "      <td>2022-01-21 12:15:00</td>\n",
       "      <td>0041f8f0c91881c1e1913f2548522495fe3c4c719aa67f...</td>\n",
       "      <td>True</td>\n",
       "      <td>False</td>\n",
       "    </tr>\n",
       "    <tr>\n",
       "      <th>223064</th>\n",
       "      <td>2022-01-24 11:15:00</td>\n",
       "      <td>2022-01-24 11:45:00</td>\n",
       "      <td>0041f8f0c91881c1e1913f2548522495fe3c4c719aa67f...</td>\n",
       "      <td>2022-01-24 11:15:00</td>\n",
       "      <td>0041f8f0c91881c1e1913f2548522495fe3c4c719aa67f...</td>\n",
       "      <td>True</td>\n",
       "      <td>False</td>\n",
       "    </tr>\n",
       "    <tr>\n",
       "      <th>430904</th>\n",
       "      <td>2022-02-11 12:45:00</td>\n",
       "      <td>2022-02-11 13:00:00</td>\n",
       "      <td>0041f8f0c91881c1e1913f2548522495fe3c4c719aa67f...</td>\n",
       "      <td>2022-02-11 12:45:00</td>\n",
       "      <td>0041f8f0c91881c1e1913f2548522495fe3c4c719aa67f...</td>\n",
       "      <td>True</td>\n",
       "      <td>False</td>\n",
       "    </tr>\n",
       "    <tr>\n",
       "      <th>437490</th>\n",
       "      <td>2022-02-11 19:15:00</td>\n",
       "      <td>2022-02-11 19:45:00</td>\n",
       "      <td>0041f8f0c91881c1e1913f2548522495fe3c4c719aa67f...</td>\n",
       "      <td>2022-02-11 19:15:00</td>\n",
       "      <td>0041f8f0c91881c1e1913f2548522495fe3c4c719aa67f...</td>\n",
       "      <td>True</td>\n",
       "      <td>False</td>\n",
       "    </tr>\n",
       "    <tr>\n",
       "      <th>465872</th>\n",
       "      <td>2022-02-14 12:00:00</td>\n",
       "      <td>2022-02-14 12:15:00</td>\n",
       "      <td>0041f8f0c91881c1e1913f2548522495fe3c4c719aa67f...</td>\n",
       "      <td>2022-02-14 12:00:00</td>\n",
       "      <td>0041f8f0c91881c1e1913f2548522495fe3c4c719aa67f...</td>\n",
       "      <td>True</td>\n",
       "      <td>False</td>\n",
       "    </tr>\n",
       "  </tbody>\n",
       "</table>\n",
       "</div>"
      ],
      "text/plain": [
       "       Trip Start Timestamp  Trip End Timestamp  \\\n",
       "195698  2022-01-21 12:15:00 2022-01-21 13:00:00   \n",
       "223064  2022-01-24 11:15:00 2022-01-24 11:45:00   \n",
       "430904  2022-02-11 12:45:00 2022-02-11 13:00:00   \n",
       "437490  2022-02-11 19:15:00 2022-02-11 19:45:00   \n",
       "465872  2022-02-14 12:00:00 2022-02-14 12:15:00   \n",
       "\n",
       "                                                  Taxi ID           next_ride  \\\n",
       "195698  0041f8f0c91881c1e1913f2548522495fe3c4c719aa67f... 2022-01-21 12:15:00   \n",
       "223064  0041f8f0c91881c1e1913f2548522495fe3c4c719aa67f... 2022-01-24 11:15:00   \n",
       "430904  0041f8f0c91881c1e1913f2548522495fe3c4c719aa67f... 2022-02-11 12:45:00   \n",
       "437490  0041f8f0c91881c1e1913f2548522495fe3c4c719aa67f... 2022-02-11 19:15:00   \n",
       "465872  0041f8f0c91881c1e1913f2548522495fe3c4c719aa67f... 2022-02-14 12:00:00   \n",
       "\n",
       "                                             next_bike_id  bike_id_check  \\\n",
       "195698  0041f8f0c91881c1e1913f2548522495fe3c4c719aa67f...           True   \n",
       "223064  0041f8f0c91881c1e1913f2548522495fe3c4c719aa67f...           True   \n",
       "430904  0041f8f0c91881c1e1913f2548522495fe3c4c719aa67f...           True   \n",
       "437490  0041f8f0c91881c1e1913f2548522495fe3c4c719aa67f...           True   \n",
       "465872  0041f8f0c91881c1e1913f2548522495fe3c4c719aa67f...           True   \n",
       "\n",
       "        check  \n",
       "195698  False  \n",
       "223064  False  \n",
       "430904  False  \n",
       "437490  False  \n",
       "465872  False  "
      ]
     },
     "execution_count": 35,
     "metadata": {},
     "output_type": "execute_result"
    }
   ],
   "source": [
    "#check if there is only one taxi trip for a Taxi ID at the same time\n",
    "sorted = taxi_trips.sort_values(by=['Taxi ID','Trip Start Timestamp'], ascending=True)\n",
    "tmp = sorted[['Trip Start Timestamp','Trip End Timestamp', 'Taxi ID']].copy()\n",
    "\n",
    "tmp['next_ride']= tmp['Trip Start Timestamp'].shift(periods=-1)\n",
    "tmp['next_bike_id']= tmp['Taxi ID'].shift(periods=-1)\n",
    "\n",
    "#compare the id & start time: if id is not same we are comparing two different bikes; if id is the same we need to check if start & end times are consistent\n",
    "tmp['bike_id_check'] = tmp.apply(lambda x: True if ((x['Taxi ID'] == x['next_bike_id'])) else False, axis=1)\n",
    "tmp = tmp.dropna()\n",
    "tmp['check'] = tmp.apply(lambda x: True if ((x['next_ride'] >= x['Trip End Timestamp'])) else False, axis=1)\n",
    "\n",
    "duplicates = tmp[(tmp['check']==False)&(tmp['bike_id_check']==True)]\n",
    "duplicates.head()"
   ]
  },
  {
   "cell_type": "code",
   "execution_count": 36,
   "metadata": {},
   "outputs": [
    {
     "data": {
      "text/plain": [
       "6242921"
      ]
     },
     "execution_count": 36,
     "metadata": {},
     "output_type": "execute_result"
    }
   ],
   "source": [
    "#drop trips where taxi ID is used a second time in the same timeframe\n",
    "indeces = list(duplicates.index)\n",
    "taxi_trips = taxi_trips.drop(indeces, axis=0)\n",
    "len(taxi_trips)"
   ]
  },
  {
   "attachments": {},
   "cell_type": "markdown",
   "metadata": {},
   "source": [
    "## Logic Preparation"
   ]
  },
  {
   "attachments": {},
   "cell_type": "markdown",
   "metadata": {},
   "source": [
    "### Trip Timestamp Logic"
   ]
  },
  {
   "cell_type": "code",
   "execution_count": 37,
   "metadata": {},
   "outputs": [
    {
     "data": {
      "text/html": [
       "<div>\n",
       "<style scoped>\n",
       "    .dataframe tbody tr th:only-of-type {\n",
       "        vertical-align: middle;\n",
       "    }\n",
       "\n",
       "    .dataframe tbody tr th {\n",
       "        vertical-align: top;\n",
       "    }\n",
       "\n",
       "    .dataframe thead th {\n",
       "        text-align: right;\n",
       "    }\n",
       "</style>\n",
       "<table border=\"1\" class=\"dataframe\">\n",
       "  <thead>\n",
       "    <tr style=\"text-align: right;\">\n",
       "      <th></th>\n",
       "      <th>Trip ID</th>\n",
       "      <th>Taxi ID</th>\n",
       "      <th>Trip Start Timestamp</th>\n",
       "      <th>Trip End Timestamp</th>\n",
       "      <th>Trip Seconds</th>\n",
       "      <th>Trip Miles</th>\n",
       "      <th>Pickup Census Tract</th>\n",
       "      <th>Dropoff Census Tract</th>\n",
       "      <th>Pickup Community Area</th>\n",
       "      <th>Dropoff Community Area</th>\n",
       "      <th>...</th>\n",
       "      <th>Extras</th>\n",
       "      <th>Trip Total</th>\n",
       "      <th>Payment Type</th>\n",
       "      <th>Company</th>\n",
       "      <th>Pickup Centroid Latitude</th>\n",
       "      <th>Pickup Centroid Longitude</th>\n",
       "      <th>Pickup Centroid Location</th>\n",
       "      <th>Dropoff Centroid Latitude</th>\n",
       "      <th>Dropoff Centroid Longitude</th>\n",
       "      <th>Dropoff Centroid  Location</th>\n",
       "    </tr>\n",
       "  </thead>\n",
       "  <tbody>\n",
       "  </tbody>\n",
       "</table>\n",
       "<p>0 rows × 23 columns</p>\n",
       "</div>"
      ],
      "text/plain": [
       "Empty DataFrame\n",
       "Columns: [Trip ID, Taxi ID, Trip Start Timestamp, Trip End Timestamp, Trip Seconds, Trip Miles, Pickup Census Tract, Dropoff Census Tract, Pickup Community Area, Dropoff Community Area, Fare, Tips, Tolls, Extras, Trip Total, Payment Type, Company, Pickup Centroid Latitude, Pickup Centroid Longitude, Pickup Centroid Location, Dropoff Centroid Latitude, Dropoff Centroid Longitude, Dropoff Centroid  Location]\n",
       "Index: []\n",
       "\n",
       "[0 rows x 23 columns]"
      ]
     },
     "execution_count": 37,
     "metadata": {},
     "output_type": "execute_result"
    }
   ],
   "source": [
    "#check for trips where end time is ealier than start time\n",
    "taxi_trips.loc[taxi_trips['Trip End Timestamp'] < taxi_trips['Trip Start Timestamp']]"
   ]
  },
  {
   "cell_type": "code",
   "execution_count": 38,
   "metadata": {},
   "outputs": [
    {
     "name": "stdout",
     "output_type": "stream",
     "text": [
      "2022-01-01 00:00:00\n",
      "2023-01-01 16:00:00\n"
     ]
    }
   ],
   "source": [
    "#check if earliest start time is in 2022\n",
    "print(taxi_trips[\"Trip Start Timestamp\"].min())\n",
    "#check if latest end time is in 2022\n",
    "print(taxi_trips[\"Trip End Timestamp\"].max())"
   ]
  },
  {
   "cell_type": "code",
   "execution_count": 39,
   "metadata": {},
   "outputs": [
    {
     "data": {
      "text/plain": [
       "Timestamp('2022-12-31 23:45:00')"
      ]
     },
     "execution_count": 39,
     "metadata": {},
     "output_type": "execute_result"
    }
   ],
   "source": [
    "#drop all entries that end outside 2022\n",
    "entries_outside = taxi_trips['Trip End Timestamp'] >= pd.to_datetime('2023-01-01 00:00:00')\n",
    "taxi_trips = taxi_trips.drop(taxi_trips[taxi_trips['Trip End Timestamp'] >= pd.to_datetime('2023-01-01 00:00:00')].index)\n",
    "taxi_trips[\"Trip End Timestamp\"].max()"
   ]
  },
  {
   "cell_type": "code",
   "execution_count": 40,
   "metadata": {},
   "outputs": [
    {
     "data": {
      "text/html": [
       "<div>\n",
       "<style scoped>\n",
       "    .dataframe tbody tr th:only-of-type {\n",
       "        vertical-align: middle;\n",
       "    }\n",
       "\n",
       "    .dataframe tbody tr th {\n",
       "        vertical-align: top;\n",
       "    }\n",
       "\n",
       "    .dataframe thead th {\n",
       "        text-align: right;\n",
       "    }\n",
       "</style>\n",
       "<table border=\"1\" class=\"dataframe\">\n",
       "  <thead>\n",
       "    <tr style=\"text-align: right;\">\n",
       "      <th></th>\n",
       "      <th>Trip Seconds</th>\n",
       "      <th>Trip Miles</th>\n",
       "      <th>Pickup Census Tract</th>\n",
       "      <th>Dropoff Census Tract</th>\n",
       "      <th>Pickup Community Area</th>\n",
       "      <th>Dropoff Community Area</th>\n",
       "      <th>Fare</th>\n",
       "      <th>Tips</th>\n",
       "      <th>Tolls</th>\n",
       "      <th>Extras</th>\n",
       "      <th>Trip Total</th>\n",
       "      <th>Pickup Centroid Latitude</th>\n",
       "      <th>Pickup Centroid Longitude</th>\n",
       "      <th>Dropoff Centroid Latitude</th>\n",
       "      <th>Dropoff Centroid Longitude</th>\n",
       "    </tr>\n",
       "  </thead>\n",
       "  <tbody>\n",
       "    <tr>\n",
       "      <th>count</th>\n",
       "      <td>6.242849e+06</td>\n",
       "      <td>6.242849e+06</td>\n",
       "      <td>2.559326e+06</td>\n",
       "      <td>2.610651e+06</td>\n",
       "      <td>5.736599e+06</td>\n",
       "      <td>5.619554e+06</td>\n",
       "      <td>6.242849e+06</td>\n",
       "      <td>6.242849e+06</td>\n",
       "      <td>6.242849e+06</td>\n",
       "      <td>6.242849e+06</td>\n",
       "      <td>6.242849e+06</td>\n",
       "      <td>5.738830e+06</td>\n",
       "      <td>5.738830e+06</td>\n",
       "      <td>5.654975e+06</td>\n",
       "      <td>5.654975e+06</td>\n",
       "    </tr>\n",
       "    <tr>\n",
       "      <th>mean</th>\n",
       "      <td>1.190935e+03</td>\n",
       "      <td>6.216502e+00</td>\n",
       "      <td>1.703147e+10</td>\n",
       "      <td>1.703141e+10</td>\n",
       "      <td>3.249140e+01</td>\n",
       "      <td>2.585083e+01</td>\n",
       "      <td>2.157005e+01</td>\n",
       "      <td>2.773749e+00</td>\n",
       "      <td>2.131810e-02</td>\n",
       "      <td>2.185130e+00</td>\n",
       "      <td>2.670758e+01</td>\n",
       "      <td>4.190011e+01</td>\n",
       "      <td>-8.768887e+01</td>\n",
       "      <td>4.189474e+01</td>\n",
       "      <td>-8.766256e+01</td>\n",
       "    </tr>\n",
       "    <tr>\n",
       "      <th>std</th>\n",
       "      <td>1.753779e+03</td>\n",
       "      <td>7.888368e+00</td>\n",
       "      <td>3.697896e+05</td>\n",
       "      <td>3.458297e+05</td>\n",
       "      <td>2.528840e+01</td>\n",
       "      <td>2.093979e+01</td>\n",
       "      <td>3.291342e+01</td>\n",
       "      <td>4.099253e+00</td>\n",
       "      <td>7.691139e+00</td>\n",
       "      <td>2.195305e+01</td>\n",
       "      <td>4.352822e+01</td>\n",
       "      <td>6.037701e-02</td>\n",
       "      <td>1.051870e-01</td>\n",
       "      <td>5.625689e-02</td>\n",
       "      <td>7.341523e-02</td>\n",
       "    </tr>\n",
       "    <tr>\n",
       "      <th>min</th>\n",
       "      <td>0.000000e+00</td>\n",
       "      <td>0.000000e+00</td>\n",
       "      <td>1.703101e+10</td>\n",
       "      <td>1.703101e+10</td>\n",
       "      <td>1.000000e+00</td>\n",
       "      <td>1.000000e+00</td>\n",
       "      <td>0.000000e+00</td>\n",
       "      <td>0.000000e+00</td>\n",
       "      <td>0.000000e+00</td>\n",
       "      <td>0.000000e+00</td>\n",
       "      <td>0.000000e+00</td>\n",
       "      <td>4.165192e+01</td>\n",
       "      <td>-8.791362e+01</td>\n",
       "      <td>4.166014e+01</td>\n",
       "      <td>-8.791362e+01</td>\n",
       "    </tr>\n",
       "    <tr>\n",
       "      <th>25%</th>\n",
       "      <td>4.570000e+02</td>\n",
       "      <td>8.500000e-01</td>\n",
       "      <td>1.703108e+10</td>\n",
       "      <td>1.703108e+10</td>\n",
       "      <td>8.000000e+00</td>\n",
       "      <td>8.000000e+00</td>\n",
       "      <td>8.000000e+00</td>\n",
       "      <td>0.000000e+00</td>\n",
       "      <td>0.000000e+00</td>\n",
       "      <td>0.000000e+00</td>\n",
       "      <td>1.000000e+01</td>\n",
       "      <td>4.187887e+01</td>\n",
       "      <td>-8.768752e+01</td>\n",
       "      <td>4.187887e+01</td>\n",
       "      <td>-8.766352e+01</td>\n",
       "    </tr>\n",
       "    <tr>\n",
       "      <th>50%</th>\n",
       "      <td>8.660000e+02</td>\n",
       "      <td>2.620000e+00</td>\n",
       "      <td>1.703132e+10</td>\n",
       "      <td>1.703132e+10</td>\n",
       "      <td>3.200000e+01</td>\n",
       "      <td>2.800000e+01</td>\n",
       "      <td>1.400000e+01</td>\n",
       "      <td>1.000000e+00</td>\n",
       "      <td>0.000000e+00</td>\n",
       "      <td>0.000000e+00</td>\n",
       "      <td>1.710000e+01</td>\n",
       "      <td>4.189503e+01</td>\n",
       "      <td>-8.763331e+01</td>\n",
       "      <td>4.189251e+01</td>\n",
       "      <td>-8.763331e+01</td>\n",
       "    </tr>\n",
       "    <tr>\n",
       "      <th>75%</th>\n",
       "      <td>1.620000e+03</td>\n",
       "      <td>1.117000e+01</td>\n",
       "      <td>1.703184e+10</td>\n",
       "      <td>1.703184e+10</td>\n",
       "      <td>4.500000e+01</td>\n",
       "      <td>3.200000e+01</td>\n",
       "      <td>3.325000e+01</td>\n",
       "      <td>4.000000e+00</td>\n",
       "      <td>0.000000e+00</td>\n",
       "      <td>2.000000e+00</td>\n",
       "      <td>4.083000e+01</td>\n",
       "      <td>4.194423e+01</td>\n",
       "      <td>-8.762519e+01</td>\n",
       "      <td>4.192269e+01</td>\n",
       "      <td>-8.762519e+01</td>\n",
       "    </tr>\n",
       "    <tr>\n",
       "      <th>max</th>\n",
       "      <td>8.634100e+04</td>\n",
       "      <td>2.967540e+03</td>\n",
       "      <td>1.703198e+10</td>\n",
       "      <td>1.703198e+10</td>\n",
       "      <td>7.700000e+01</td>\n",
       "      <td>7.700000e+01</td>\n",
       "      <td>9.900260e+03</td>\n",
       "      <td>4.960000e+02</td>\n",
       "      <td>6.666660e+03</td>\n",
       "      <td>8.888880e+03</td>\n",
       "      <td>9.900310e+03</td>\n",
       "      <td>4.201605e+01</td>\n",
       "      <td>-8.753071e+01</td>\n",
       "      <td>4.202122e+01</td>\n",
       "      <td>-8.753139e+01</td>\n",
       "    </tr>\n",
       "  </tbody>\n",
       "</table>\n",
       "</div>"
      ],
      "text/plain": [
       "       Trip Seconds    Trip Miles  Pickup Census Tract  Dropoff Census Tract  \\\n",
       "count  6.242849e+06  6.242849e+06         2.559326e+06          2.610651e+06   \n",
       "mean   1.190935e+03  6.216502e+00         1.703147e+10          1.703141e+10   \n",
       "std    1.753779e+03  7.888368e+00         3.697896e+05          3.458297e+05   \n",
       "min    0.000000e+00  0.000000e+00         1.703101e+10          1.703101e+10   \n",
       "25%    4.570000e+02  8.500000e-01         1.703108e+10          1.703108e+10   \n",
       "50%    8.660000e+02  2.620000e+00         1.703132e+10          1.703132e+10   \n",
       "75%    1.620000e+03  1.117000e+01         1.703184e+10          1.703184e+10   \n",
       "max    8.634100e+04  2.967540e+03         1.703198e+10          1.703198e+10   \n",
       "\n",
       "       Pickup Community Area  Dropoff Community Area          Fare  \\\n",
       "count           5.736599e+06            5.619554e+06  6.242849e+06   \n",
       "mean            3.249140e+01            2.585083e+01  2.157005e+01   \n",
       "std             2.528840e+01            2.093979e+01  3.291342e+01   \n",
       "min             1.000000e+00            1.000000e+00  0.000000e+00   \n",
       "25%             8.000000e+00            8.000000e+00  8.000000e+00   \n",
       "50%             3.200000e+01            2.800000e+01  1.400000e+01   \n",
       "75%             4.500000e+01            3.200000e+01  3.325000e+01   \n",
       "max             7.700000e+01            7.700000e+01  9.900260e+03   \n",
       "\n",
       "               Tips         Tolls        Extras    Trip Total  \\\n",
       "count  6.242849e+06  6.242849e+06  6.242849e+06  6.242849e+06   \n",
       "mean   2.773749e+00  2.131810e-02  2.185130e+00  2.670758e+01   \n",
       "std    4.099253e+00  7.691139e+00  2.195305e+01  4.352822e+01   \n",
       "min    0.000000e+00  0.000000e+00  0.000000e+00  0.000000e+00   \n",
       "25%    0.000000e+00  0.000000e+00  0.000000e+00  1.000000e+01   \n",
       "50%    1.000000e+00  0.000000e+00  0.000000e+00  1.710000e+01   \n",
       "75%    4.000000e+00  0.000000e+00  2.000000e+00  4.083000e+01   \n",
       "max    4.960000e+02  6.666660e+03  8.888880e+03  9.900310e+03   \n",
       "\n",
       "       Pickup Centroid Latitude  Pickup Centroid Longitude  \\\n",
       "count              5.738830e+06               5.738830e+06   \n",
       "mean               4.190011e+01              -8.768887e+01   \n",
       "std                6.037701e-02               1.051870e-01   \n",
       "min                4.165192e+01              -8.791362e+01   \n",
       "25%                4.187887e+01              -8.768752e+01   \n",
       "50%                4.189503e+01              -8.763331e+01   \n",
       "75%                4.194423e+01              -8.762519e+01   \n",
       "max                4.201605e+01              -8.753071e+01   \n",
       "\n",
       "       Dropoff Centroid Latitude  Dropoff Centroid Longitude  \n",
       "count               5.654975e+06                5.654975e+06  \n",
       "mean                4.189474e+01               -8.766256e+01  \n",
       "std                 5.625689e-02                7.341523e-02  \n",
       "min                 4.166014e+01               -8.791362e+01  \n",
       "25%                 4.187887e+01               -8.766352e+01  \n",
       "50%                 4.189251e+01               -8.763331e+01  \n",
       "75%                 4.192269e+01               -8.762519e+01  \n",
       "max                 4.202122e+01               -8.753139e+01  "
      ]
     },
     "execution_count": 40,
     "metadata": {},
     "output_type": "execute_result"
    }
   ],
   "source": [
    "taxi_trips.describe()"
   ]
  },
  {
   "attachments": {},
   "cell_type": "markdown",
   "metadata": {},
   "source": [
    "### Validate range of 'Trip Seconds'"
   ]
  },
  {
   "cell_type": "code",
   "execution_count": 41,
   "metadata": {},
   "outputs": [
    {
     "data": {
      "text/plain": [
       "(0.0, 70000.0)"
      ]
     },
     "execution_count": 41,
     "metadata": {},
     "output_type": "execute_result"
    },
    {
     "data": {
      "image/png": "[encoded data removed]",
      "text/plain": [
       "<Figure size 640x480 with 1 Axes>"
      ]
     },
     "metadata": {},
     "output_type": "display_data"
    }
   ],
   "source": [
    "fig= sns.histplot(taxi_trips['Trip Seconds'])\n",
    "fig.set_ylim(0,70000)"
   ]
  },
  {
   "cell_type": "code",
   "execution_count": 42,
   "metadata": {},
   "outputs": [
    {
     "name": "stdout",
     "output_type": "stream",
     "text": [
      "Upper time:  12688.280000010505\n",
      "Rows droped:  6243\n",
      "Lower time:  33.0\n",
      "Rows droped:  311763\n"
     ]
    },
    {
     "data": {
      "text/plain": [
       "5924843"
      ]
     },
     "execution_count": 42,
     "metadata": {},
     "output_type": "execute_result"
    }
   ],
   "source": [
    "#drop very short and very long trips considering the seconds\n",
    "upper_quantile = 0.999\n",
    "print('Upper time: ', taxi_trips['Trip Seconds'].quantile(upper_quantile)) # 3.52 hours\n",
    "print('Rows droped: ', len(taxi_trips[taxi_trips['Trip Seconds'] > taxi_trips['Trip Seconds'].quantile(upper_quantile)])) # 6243 rows out\n",
    "\n",
    "lower_quantile = 0.05\n",
    "print('Lower time: ', taxi_trips['Trip Seconds'].quantile(lower_quantile)) # 33 seconds\n",
    "print('Rows droped: ', len(taxi_trips[taxi_trips['Trip Seconds'] < taxi_trips['Trip Seconds'].quantile(lower_quantile)])) # 311763 rows out\n",
    "\n",
    "taxi_trips = taxi_trips[(taxi_trips['Trip Seconds'] <= taxi_trips['Trip Seconds'].quantile(upper_quantile)) \n",
    "                        & (taxi_trips['Trip Seconds'] >= taxi_trips['Trip Seconds'].quantile(lower_quantile))]\n",
    "len(taxi_trips)"
   ]
  },
  {
   "cell_type": "code",
   "execution_count": 43,
   "metadata": {},
   "outputs": [
    {
     "data": {
      "image/png": "[encoded data removed]",
      "text/plain": [
       "<Figure size 640x480 with 1 Axes>"
      ]
     },
     "metadata": {},
     "output_type": "display_data"
    }
   ],
   "source": [
    "fig= sns.histplot(taxi_trips['Trip Seconds'])"
   ]
  },
  {
   "attachments": {},
   "cell_type": "markdown",
   "metadata": {},
   "source": [
    "### Validate range of 'Trip Miles'"
   ]
  },
  {
   "cell_type": "code",
   "execution_count": 44,
   "metadata": {},
   "outputs": [
    {
     "data": {
      "text/plain": [
       "(0.0, 300.0)"
      ]
     },
     "execution_count": 44,
     "metadata": {},
     "output_type": "execute_result"
    },
    {
     "data": {
      "image/png": "[encoded data removed]",
      "text/plain": [
       "<Figure size 640x480 with 1 Axes>"
      ]
     },
     "metadata": {},
     "output_type": "display_data"
    }
   ],
   "source": [
    "fig= sns.histplot(taxi_trips['Trip Miles'])\n",
    "fig.set_ylim(0,60000)\n",
    "fig.set_xlim(0,300)"
   ]
  },
  {
   "cell_type": "code",
   "execution_count": 45,
   "metadata": {},
   "outputs": [
    {
     "name": "stdout",
     "output_type": "stream",
     "text": [
      "Upper miles:  86.87031599998474\n",
      "Rows droped:  593\n",
      "Lower miles:  0.1\n",
      "Rows droped:  534656\n"
     ]
    },
    {
     "data": {
      "text/plain": [
       "5389594"
      ]
     },
     "execution_count": 45,
     "metadata": {},
     "output_type": "execute_result"
    }
   ],
   "source": [
    "#drop very short and very long trips considering the miles\n",
    "upper_quantile = 0.9999\n",
    "print('Upper miles: ', taxi_trips['Trip Miles'].quantile(upper_quantile)) # 86.87 miles\n",
    "print('Rows droped: ', len(taxi_trips[taxi_trips['Trip Miles'] > taxi_trips['Trip Miles'].quantile(upper_quantile)])) # 593 rows out\n",
    "\n",
    "lower_quantile = 0.1                                                                                      \n",
    "print('Lower miles: ', taxi_trips['Trip Miles'].quantile(lower_quantile)) # 0.1 miles\n",
    "print('Rows droped: ', len(taxi_trips[taxi_trips['Trip Miles'] < taxi_trips['Trip Miles'].quantile(lower_quantile)])) # 534656 rows out\n",
    "\n",
    "taxi_trips = taxi_trips[(taxi_trips['Trip Miles'] <= taxi_trips['Trip Miles'].quantile(upper_quantile)) \n",
    "                        & (taxi_trips['Trip Miles'] >= taxi_trips['Trip Miles'].quantile(lower_quantile))]\n",
    "len(taxi_trips)"
   ]
  },
  {
   "cell_type": "code",
   "execution_count": 46,
   "metadata": {},
   "outputs": [
    {
     "data": {
      "image/png": "[encoded data removed]",
      "text/plain": [
       "<Figure size 640x480 with 1 Axes>"
      ]
     },
     "metadata": {},
     "output_type": "display_data"
    }
   ],
   "source": [
    "fig= sns.histplot(taxi_trips['Trip Miles'])"
   ]
  },
  {
   "attachments": {},
   "cell_type": "markdown",
   "metadata": {},
   "source": [
    "### Validate calculation of 'Trip Total'"
   ]
  },
  {
   "cell_type": "code",
   "execution_count": 47,
   "metadata": {},
   "outputs": [],
   "source": [
    "#check if Trip Total is calculated correctly\n",
    "#taxi_trips = taxi_trips.drop(taxi_trips[taxi_trips[['Fare', 'Tips', 'Tolls', 'Extras']].sum(axis=1) != taxi_trips['Trip Total']].index)\n",
    "#len(taxi_trips.index)\n",
    "#2Mil lost?"
   ]
  },
  {
   "attachments": {},
   "cell_type": "markdown",
   "metadata": {},
   "source": [
    "## Column Adjustment"
   ]
  },
  {
   "cell_type": "code",
   "execution_count": 48,
   "metadata": {},
   "outputs": [
    {
     "data": {
      "text/plain": [
       "0     2.53\n",
       "1    39.33\n",
       "2     8.93\n",
       "5    20.93\n",
       "7     0.55\n",
       "Name: Trip Seconds, dtype: float64"
      ]
     },
     "execution_count": 48,
     "metadata": {},
     "output_type": "execute_result"
    }
   ],
   "source": [
    "#calculate the minutes out of the trip (column name changed below)\n",
    "taxi_trips['Trip Seconds'] = taxi_trips['Trip Seconds'].apply(lambda x: x / 60).round(2)\n",
    "taxi_trips['Trip Seconds'].head()"
   ]
  },
  {
   "cell_type": "code",
   "execution_count": 49,
   "metadata": {},
   "outputs": [
    {
     "data": {
      "text/plain": [
       "Index(['trip_id', 'taxi_id', 'start_time', 'end_time', 'minutes', 'miles',\n",
       "       'pickup_census_tract', 'dropoff_census_tract', 'pickup_community_area',\n",
       "       'dropoff_community_area', 'fare', 'tips', 'tolls', 'extras', 'total',\n",
       "       'payment_type', 'company', 'pickup_centroid_latitude',\n",
       "       'pickup_centroid_longitude', 'pickup_centroid_location',\n",
       "       'dropoff_centroid_latitude', 'dropoff_centroid_longitude',\n",
       "       'dropoff_centroid_location'],\n",
       "      dtype='object')"
      ]
     },
     "execution_count": 49,
     "metadata": {},
     "output_type": "execute_result"
    }
   ],
   "source": [
    "#rename columns\n",
    "taxi_trips.rename(columns={'Trip ID' : 'trip_id', 'Taxi ID' : 'taxi_id', 'Trip Start Timestamp': 'start_time', 'Trip End Timestamp': 'end_time',\n",
    "       'Trip Seconds' : 'minutes', 'Trip Miles' : 'miles', 'Pickup Census Tract' : 'pickup_census_tract', 'Dropoff Census Tract' : 'dropoff_census_tract',\n",
    "       'Pickup Community Area' : 'pickup_community_area', 'Dropoff Community Area' : 'dropoff_community_area', 'Fare' : 'fare', 'Tips' : 'tips',\n",
    "       'Tolls' : 'tolls', 'Extras' : 'extras', 'Trip Total' : 'total', 'Payment Type' : 'payment_type', 'Company' : 'company',\n",
    "       'Pickup Centroid Latitude' : 'pickup_centroid_latitude', 'Pickup Centroid Longitude' : 'pickup_centroid_longitude',\n",
    "       'Pickup Centroid Location' : 'pickup_centroid_location', 'Dropoff Centroid Latitude' : 'dropoff_centroid_latitude',\n",
    "       'Dropoff Centroid Longitude' : 'dropoff_centroid_longitude', 'Dropoff Centroid  Location' : 'dropoff_centroid_location'}, inplace=True)\n",
    "taxi_trips.columns"
   ]
  },
  {
   "attachments": {},
   "cell_type": "markdown",
   "metadata": {},
   "source": [
    "## Export"
   ]
  },
  {
   "cell_type": "code",
   "execution_count": 50,
   "metadata": {},
   "outputs": [],
   "source": [
    "#save dataframe as new csv\n",
    "taxi_trips.to_csv('data/prepared/taxi_trips.csv', index=False)"
   ]
  }
 ],
 "metadata": {
  "kernelspec": {
   "display_name": "base",
   "language": "python",
   "name": "python3"
  },
  "language_info": {
   "codemirror_mode": {
    "name": "ipython",
    "version": 3
   },
   "file_extension": ".py",
   "mimetype": "text/x-python",
   "name": "python",
   "nbconvert_exporter": "python",
   "pygments_lexer": "ipython3",
   "version": "3.9.13"
  },
  "orig_nbformat": 4
 },
 "nbformat": 4,
 "nbformat_minor": 2
}
